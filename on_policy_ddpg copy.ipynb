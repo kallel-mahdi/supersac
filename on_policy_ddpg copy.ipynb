{
 "cells": [
  {
   "cell_type": "code",
   "execution_count": 1,
   "metadata": {},
   "outputs": [],
   "source": [
    "\"\"\"Implementations of algorithms for continuous control.\"\"\"\n",
    "import functools\n",
    "from jaxrl_m.typing import *\n",
    "\n",
    "import jax\n",
    "import jax.lax as lax\n",
    "import jax.numpy as jnp\n",
    "import numpy as np\n",
    "import optax\n",
    "from jaxrl_m.common import TrainState, target_update, nonpytree_field\n",
    "from jaxrl_m.networks import DeterministicPolicy,Policy, Critic, ensemblize\n",
    "from jaxrl_m.rollout import rollout_policy,PolicyRollout\n",
    "import flax\n",
    "import flax.linen as nn\n",
    "\n",
    "from functools import partial\n",
    "\n",
    "\n",
    "\n",
    "class SACAgent(flax.struct.PyTreeNode):\n",
    "    rng: PRNGKey\n",
    "    critic: TrainState\n",
    "    target_critic: TrainState\n",
    "    actor: TrainState\n",
    "    config: dict = nonpytree_field()\n",
    "    \n",
    "    \n",
    "    @jax.jit    \n",
    "    def reset_critic_optimizer(agent):\n",
    "    \n",
    "        new_opt_state = agent.critic.tx.init(agent.critic.params)\n",
    "        new_critic = agent.critic.replace(opt_state=new_opt_state)\n",
    "        \n",
    "        return agent.replace(critic=new_critic)\n",
    "\n",
    "            \n",
    "    @partial(jax.jit,static_argnames=('num_steps',))  \n",
    "    \n",
    "    def update_critics(agent, transitions: Batch,idxs:jnp.array,num_steps:int):\n",
    "        \n",
    "        def update_critic(agent,critic,target_critic,transitions: Batch,idxs:jnp.array,num_steps:int):\n",
    "            \n",
    "                def one_update(previous_result,new_element):\n",
    "                        \n",
    "                    agent,critic,target_critic = previous_result\n",
    "                    batch_idxs = new_element\n",
    "                        \n",
    "                    new_rng, curr_key, next_key = jax.random.split(agent.rng, 3)\n",
    "                    \n",
    "                    \n",
    "                    target_critic_params = target_critic.params\n",
    "                    batch = jax.tree_map(lambda x : x[batch_idxs],transitions)\n",
    "\n",
    "                \n",
    "                    def critic_loss_fn(critic_params):\n",
    "                        next_actions = agent.actor(batch['next_observations'])\n",
    "                        \n",
    "                        #print(critic_params['params']['MLP_0']['Dense_0']['bias'].shape)\n",
    "                        q = critic(batch['observations'], batch['actions'],True,\n",
    "                                                            params=critic_params[\"params\"],rngs={'dropout': curr_key},\n",
    "                                                            )\n",
    "                        \n",
    "                        \n",
    "                        #print(target_critic_params['params']['MLP_0']['Dense_0']['bias'].shape)\n",
    "                        next_q = target_critic(batch['next_observations'], next_actions,True,\n",
    "                                                            params=target_critic_params[\"params\"],rngs={'dropout': next_key})\n",
    "                        target_q = batch['rewards'] + agent.config['discount'] * batch['masks'] * next_q\n",
    "                        \n",
    "                        \n",
    "                        critic_loss = ((target_q-q)**2).mean()\n",
    "                        \n",
    "                        return critic_loss,{'critic_loss': critic_loss}\n",
    "              \n",
    "                    \n",
    "                    new_critic,_  = critic.apply_loss_fn(loss_fn=critic_loss_fn, has_aux=True)\n",
    "                    new_target_critic = target_update(critic, target_critic, agent.config['target_update_rate'])\n",
    "                    new_agent = agent.replace(rng=new_rng)\n",
    "                    \n",
    "                    return (new_agent, new_critic, new_target_critic),()\n",
    "            \n",
    "\n",
    "                (agent,critic,target_critic),_ = jax.lax.scan(one_update,(agent,critic,target_critic),idxs)\n",
    "                \n",
    "         \n",
    "                \n",
    "                return critic,target_critic\n",
    "        \n",
    "        critics,target_critics = jax.vmap(update_critic,in_axes=(None,0,0,None,None,None))(\n",
    "                                                agent,agent.critic,agent.target_critic,transitions,idxs,num_steps)\n",
    "        \n",
    "        agent = agent.replace(critic=critics,target_critic=target_critics)\n",
    "        \n",
    "        return agent,{}\n",
    "        \n",
    "   \n",
    "\n",
    "        \n",
    "    @jax.jit\n",
    "    def update_actor(agent, batch: Batch):\n",
    "        new_rng, curr_key, next_key = jax.random.split(agent.rng, 3)\n",
    "\n",
    "        def actor_loss_fn(actor_params):\n",
    "            \n",
    "            actions = agent.actor(batch['observations'], params=actor_params)\n",
    "            def f(observations,actions,params):\n",
    "                return agent.critic(observations,actions,params=params[\"params\"])\n",
    "            \n",
    "            qs = jax.vmap(f,in_axes=(None,None,0))(batch['observations'],actions,agent.critic.params)\n",
    "            \n",
    "            q = qs.mean(axis=0)\n",
    "            actor_loss = (-q).mean()\n",
    "            \n",
    "            return actor_loss, {\n",
    "                'actor_loss': actor_loss,\n",
    "              \n",
    "            }\n",
    "\n",
    "        new_actor, actor_info = agent.actor.apply_loss_fn(loss_fn=actor_loss_fn, has_aux=True)\n",
    "\n",
    "        return agent.replace(rng=new_rng,actor=new_actor,), {**actor_info}\n",
    "        \n",
    "\n",
    "\n",
    "    @jax.jit\n",
    "    def sample_actions(agent,observations: np.ndarray) -> jnp.ndarray:\n",
    "        actions = agent.actor(observations)\n",
    "       \n",
    "        return actions\n",
    "    \n",
    " \n",
    "\n",
    "def create_learner(\n",
    "                 seed: int,\n",
    "                 observations: jnp.ndarray,\n",
    "                 actions: jnp.ndarray,\n",
    "                 actor_lr: float = 3e-4,\n",
    "                 critic_lr: float = 3e-4,\n",
    "                 hidden_dims: Sequence[int] = (256, 256),\n",
    "                 discount: float = 0.99,\n",
    "                 tau: float = 0.005,\n",
    "            **kwargs):\n",
    "\n",
    "        print('Extra kwargs:', kwargs)\n",
    "\n",
    "        rng = jax.random.PRNGKey(seed)\n",
    "        rng, actor_key, critic_key = jax.random.split(rng, 3)\n",
    "\n",
    "        action_dim = actions.shape[-1]\n",
    "        actor_def = DeterministicPolicy((64,64), action_dim=action_dim,final_fc_init_scale=1.0)\n",
    "\n",
    "        actor_params = actor_def.init(actor_key, observations)['params']\n",
    "        actor = TrainState.create(actor_def, actor_params, tx=optax.adam(learning_rate=actor_lr))      \n",
    "\n",
    "        critic_def = Critic(hidden_dims)\n",
    "        critics_keys = jax.random.split(critic_key,5)\n",
    "        critics_params = jax.vmap(critic_def.init,in_axes=(0,None,None))(critics_keys,observations,actions)\n",
    "        tmp = partial(TrainState.create,critic_def,tx=optax.adam(learning_rate=critic_lr))\n",
    "        critics = jax.vmap(tmp)(critics_params)\n",
    "        target_critics = jax.vmap(TrainState.create,in_axes=(None,0))(critic_def,critics_params)\n",
    "\n",
    "    \n",
    "        config = flax.core.FrozenDict(dict(\n",
    "            discount=discount,\n",
    "            target_update_rate=tau,    \n",
    "        ))\n",
    "\n",
    "        #return SACAgent(rng, critic=critic, target_critic=target_critic, actor=actor, config=config)\n",
    "        return SACAgent(rng, critic=critics, target_critic=target_critics, actor=actor, config=config)\n"
   ]
  },
  {
   "cell_type": "code",
   "execution_count": 2,
   "metadata": {},
   "outputs": [],
   "source": [
    "\n",
    "\n",
    "\n",
    "\n",
    "def f(anc_agent,obs,actor):\n",
    "\n",
    "    actions = anc_agent.actor(obs, params=actor)\n",
    "    qs = anc_agent.critic(obs, actions,params=anc_agent.target_critic.params)\n",
    "    q = qs.mean(axis=0)\n",
    "    \n",
    "    return q\n",
    "    \n",
    "\n",
    "@jax.jit\n",
    "def estimate_return(anc_agent,anc_return,acq_rollout:PolicyRollout,):\n",
    "    \n",
    "    acq_obs = acq_rollout.observations\n",
    "    acq_masks = acq_rollout.disc_masks\n",
    "  \n",
    "    acq_actor = acq_rollout.policy_params\n",
    "    acq_return = acq_rollout.policy_return\n",
    "    \n",
    "    anc_actor = anc_agent.actor.params\n",
    "    \n",
    "    acq_q = f(anc_agent,acq_obs,acq_actor)\n",
    "    anc_q = f(anc_agent,acq_obs,anc_actor)\n",
    "    \n",
    "    adv = ((acq_q - anc_q)*acq_masks).sum()/5\n",
    "    acq_return_pred = anc_return + adv\n",
    "  \n",
    "    \n",
    "    return acq_return_pred,acq_return\n",
    "\n",
    "\n",
    "def evaluate_critic(anc_agent,anc_return,policy_rollouts):\n",
    "\n",
    "    y_pred,y= [],[]\n",
    "    for policy_rollout in policy_rollouts:\n",
    "        \n",
    "        acq_return_pred,acq_return = estimate_return(anc_agent,anc_return,policy_rollout)\n",
    "        y_pred.append(acq_return_pred),y.append(acq_return)\n",
    "        \n",
    "    y_pred,y = np.array(y_pred),np.array(y)\n",
    "    a2 = jnp.clip(((y-y_pred)**2),a_min=1e-4).sum()\n",
    "    b2=((y-y.mean())**2).sum()\n",
    "    R2 = 1-(a2/b2)  \n",
    "    \n",
    "    return R2\n"
   ]
  },
  {
   "cell_type": "code",
   "execution_count": 3,
   "metadata": {},
   "outputs": [
    {
     "name": "stderr",
     "output_type": "stream",
     "text": [
      "2023-12-18 16:42:57.542973: W external/xla/xla/service/gpu/nvptx_compiler.cc:679] The NVIDIA driver's CUDA version is 12.2 which is older than the ptxas CUDA version (12.3.103). Because the driver is older than the ptxas version, XLA is disabling parallel compilation, which may slow down compilation. You should update your NVIDIA driver or use the NVIDIA-provided CUDA forward compatibility packages.\n",
      "Failed to detect the name of this notebook, you can set it manually with the WANDB_NOTEBOOK_NAME environment variable to enable code saving.\n",
      "\u001b[34m\u001b[1mwandb\u001b[0m: Currently logged in as: \u001b[33mmahdikallel\u001b[0m. Use \u001b[1m`wandb login --relogin`\u001b[0m to force relogin\n"
     ]
    },
    {
     "data": {
      "text/html": [
       "Tracking run with wandb version 0.16.1"
      ],
      "text/plain": [
       "<IPython.core.display.HTML object>"
      ]
     },
     "metadata": {},
     "output_type": "display_data"
    },
    {
     "data": {
      "text/html": [
       "Run data is saved locally in <code>/tmp/tmp1dfiw7xj/wandb/run-20231218_164258-p3jm8wwj</code>"
      ],
      "text/plain": [
       "<IPython.core.display.HTML object>"
      ]
     },
     "metadata": {},
     "output_type": "display_data"
    },
    {
     "data": {
      "text/html": [
       "Syncing run <strong><a href='https://wandb.ai/mahdikallel/jaxrl_m/runs/p3jm8wwj' target=\"_blank\">blooming-pine-141</a></strong> to <a href='https://wandb.ai/mahdikallel/jaxrl_m' target=\"_blank\">Weights & Biases</a> (<a href='https://wandb.me/run' target=\"_blank\">docs</a>)<br/>"
      ],
      "text/plain": [
       "<IPython.core.display.HTML object>"
      ]
     },
     "metadata": {},
     "output_type": "display_data"
    },
    {
     "data": {
      "text/html": [
       " View project at <a href='https://wandb.ai/mahdikallel/jaxrl_m' target=\"_blank\">https://wandb.ai/mahdikallel/jaxrl_m</a>"
      ],
      "text/plain": [
       "<IPython.core.display.HTML object>"
      ]
     },
     "metadata": {},
     "output_type": "display_data"
    },
    {
     "data": {
      "text/html": [
       " View run at <a href='https://wandb.ai/mahdikallel/jaxrl_m/runs/p3jm8wwj' target=\"_blank\">https://wandb.ai/mahdikallel/jaxrl_m/runs/p3jm8wwj</a>"
      ],
      "text/plain": [
       "<IPython.core.display.HTML object>"
      ]
     },
     "metadata": {},
     "output_type": "display_data"
    },
    {
     "name": "stdout",
     "output_type": "stream",
     "text": [
      "Extra kwargs: {'max_steps': 1000000}\n"
     ]
    },
    {
     "name": "stderr",
     "output_type": "stream",
     "text": [
      "  1%|          | 5003/1000000 [00:00<00:40, 24810.87it/s]"
     ]
    },
    {
     "name": "stdout",
     "output_type": "stream",
     "text": [
      "evaluating\n"
     ]
    },
    {
     "name": "stderr",
     "output_type": "stream",
     "text": [
      "  1%|          | 10045/1000000 [00:46<1:53:23, 145.51it/s]"
     ]
    },
    {
     "name": "stdout",
     "output_type": "stream",
     "text": [
      "evaluating\n"
     ]
    },
    {
     "name": "stderr",
     "output_type": "stream",
     "text": [
      "  2%|▏         | 15277/1000000 [01:25<2:35:57, 105.23it/s]"
     ]
    },
    {
     "name": "stdout",
     "output_type": "stream",
     "text": [
      "evaluating\n"
     ]
    },
    {
     "name": "stderr",
     "output_type": "stream",
     "text": [
      "  2%|▏         | 20458/1000000 [01:58<2:14:20, 121.52it/s]"
     ]
    },
    {
     "name": "stdout",
     "output_type": "stream",
     "text": [
      "evaluating\n"
     ]
    },
    {
     "name": "stderr",
     "output_type": "stream",
     "text": [
      "  3%|▎         | 25497/1000000 [02:27<2:12:09, 122.89it/s]"
     ]
    },
    {
     "name": "stdout",
     "output_type": "stream",
     "text": [
      "evaluating\n"
     ]
    },
    {
     "name": "stderr",
     "output_type": "stream",
     "text": [
      "  3%|▎         | 30681/1000000 [02:55<1:53:45, 142.01it/s]"
     ]
    },
    {
     "name": "stdout",
     "output_type": "stream",
     "text": [
      "evaluating\n"
     ]
    },
    {
     "name": "stderr",
     "output_type": "stream",
     "text": [
      "  4%|▎         | 35749/1000000 [03:24<2:19:15, 115.40it/s]"
     ]
    },
    {
     "name": "stdout",
     "output_type": "stream",
     "text": [
      "evaluating\n"
     ]
    },
    {
     "name": "stderr",
     "output_type": "stream",
     "text": [
      "  4%|▍         | 40877/1000000 [03:56<2:14:23, 118.95it/s]"
     ]
    },
    {
     "name": "stdout",
     "output_type": "stream",
     "text": [
      "evaluating\n"
     ]
    },
    {
     "name": "stderr",
     "output_type": "stream",
     "text": [
      "  5%|▍         | 45995/1000000 [04:26<2:07:57, 124.25it/s]"
     ]
    },
    {
     "name": "stdout",
     "output_type": "stream",
     "text": [
      "evaluating\n"
     ]
    },
    {
     "name": "stderr",
     "output_type": "stream",
     "text": [
      "  5%|▌         | 51093/1000000 [04:55<2:01:39, 130.00it/s]"
     ]
    },
    {
     "name": "stdout",
     "output_type": "stream",
     "text": [
      "evaluating\n"
     ]
    },
    {
     "name": "stderr",
     "output_type": "stream",
     "text": [
      "  6%|▌         | 56223/1000000 [05:22<1:59:10, 131.99it/s]"
     ]
    },
    {
     "name": "stdout",
     "output_type": "stream",
     "text": [
      "evaluating\n"
     ]
    },
    {
     "name": "stderr",
     "output_type": "stream",
     "text": [
      "  6%|▌         | 61371/1000000 [05:48<1:58:14, 132.31it/s]"
     ]
    },
    {
     "name": "stdout",
     "output_type": "stream",
     "text": [
      "evaluating\n"
     ]
    },
    {
     "name": "stderr",
     "output_type": "stream",
     "text": [
      "  7%|▋         | 66417/1000000 [06:17<2:19:51, 111.25it/s]"
     ]
    },
    {
     "name": "stdout",
     "output_type": "stream",
     "text": [
      "evaluating\n"
     ]
    },
    {
     "name": "stderr",
     "output_type": "stream",
     "text": [
      "  7%|▋         | 71541/1000000 [06:52<2:30:55, 102.53it/s]"
     ]
    },
    {
     "name": "stdout",
     "output_type": "stream",
     "text": [
      "evaluating\n"
     ]
    },
    {
     "name": "stderr",
     "output_type": "stream",
     "text": [
      "  8%|▊         | 76579/1000000 [07:23<2:11:58, 116.61it/s]"
     ]
    },
    {
     "name": "stdout",
     "output_type": "stream",
     "text": [
      "evaluating\n"
     ]
    },
    {
     "name": "stderr",
     "output_type": "stream",
     "text": [
      "  8%|▊         | 81657/1000000 [07:57<2:27:21, 103.87it/s]"
     ]
    },
    {
     "name": "stdout",
     "output_type": "stream",
     "text": [
      "evaluating\n"
     ]
    },
    {
     "name": "stderr",
     "output_type": "stream",
     "text": [
      "  9%|▊         | 86763/1000000 [08:36<2:18:41, 109.74it/s]"
     ]
    },
    {
     "name": "stdout",
     "output_type": "stream",
     "text": [
      "evaluating\n"
     ]
    },
    {
     "name": "stderr",
     "output_type": "stream",
     "text": [
      "  9%|▉         | 89700/1000000 [08:55<1:30:37, 167.40it/s]\n"
     ]
    },
    {
     "ename": "KeyboardInterrupt",
     "evalue": "",
     "output_type": "error",
     "traceback": [
      "\u001b[0;31m---------------------------------------------------------------------------\u001b[0m",
      "\u001b[0;31mKeyboardInterrupt\u001b[0m                         Traceback (most recent call last)",
      "\u001b[1;32m/home/mahdi/Desktop/supersac/on_policy_ddpg copy.ipynb Cell 3\u001b[0m line \u001b[0;36m8\n\u001b[1;32m     <a href='vscode-notebook-cell:/home/mahdi/Desktop/supersac/on_policy_ddpg%20copy.ipynb#W4sZmlsZQ%3D%3D?line=79'>80</a>\u001b[0m idxs \u001b[39m=\u001b[39m jax\u001b[39m.\u001b[39mrandom\u001b[39m.\u001b[39mchoice(a\u001b[39m=\u001b[39mreplay_buffer\u001b[39m.\u001b[39msize, shape\u001b[39m=\u001b[39m(\u001b[39m5000\u001b[39m,\u001b[39m256\u001b[39m), replace\u001b[39m=\u001b[39m\u001b[39mTrue\u001b[39;00m,key\u001b[39m=\u001b[39mjax\u001b[39m.\u001b[39mrandom\u001b[39m.\u001b[39mPRNGKey(\u001b[39m0\u001b[39m))\n\u001b[1;32m     <a href='vscode-notebook-cell:/home/mahdi/Desktop/supersac/on_policy_ddpg%20copy.ipynb#W4sZmlsZQ%3D%3D?line=80'>81</a>\u001b[0m agent\u001b[39m.\u001b[39mreset_critic_optimizer()\n\u001b[0;32m---> <a href='vscode-notebook-cell:/home/mahdi/Desktop/supersac/on_policy_ddpg%20copy.ipynb#W4sZmlsZQ%3D%3D?line=81'>82</a>\u001b[0m agent, critic_update_info \u001b[39m=\u001b[39m agent\u001b[39m.\u001b[39;49mupdate_critics(transitions,idxs,\u001b[39m5000\u001b[39;49m)\n\u001b[1;32m     <a href='vscode-notebook-cell:/home/mahdi/Desktop/supersac/on_policy_ddpg%20copy.ipynb#W4sZmlsZQ%3D%3D?line=82'>83</a>\u001b[0m \u001b[39m#R2 = evaluate_critic(agent,policy_rollouts[-1].policy_return,policy_rollouts)\u001b[39;00m\n\u001b[1;32m     <a href='vscode-notebook-cell:/home/mahdi/Desktop/supersac/on_policy_ddpg%20copy.ipynb#W4sZmlsZQ%3D%3D?line=83'>84</a>\u001b[0m R2 \u001b[39m=\u001b[39m \u001b[39m0\u001b[39m\n",
      "File \u001b[0;32m~/Desktop/supersac/.venv/lib/python3.10/site-packages/flax/core/frozen_dict.py:168\u001b[0m, in \u001b[0;36mFrozenDict.tree_unflatten\u001b[0;34m(cls, keys, values)\u001b[0m\n\u001b[1;32m    163\u001b[0m   sorted_keys \u001b[39m=\u001b[39m \u001b[39msorted\u001b[39m(\u001b[39mself\u001b[39m\u001b[39m.\u001b[39m_dict)\n\u001b[1;32m    164\u001b[0m   \u001b[39mreturn\u001b[39;00m \u001b[39mtuple\u001b[39m(\n\u001b[1;32m    165\u001b[0m       [(jax\u001b[39m.\u001b[39mtree_util\u001b[39m.\u001b[39mDictKey(k), \u001b[39mself\u001b[39m\u001b[39m.\u001b[39m_dict[k]) \u001b[39mfor\u001b[39;00m k \u001b[39min\u001b[39;00m sorted_keys]\n\u001b[1;32m    166\u001b[0m   ), \u001b[39mtuple\u001b[39m(sorted_keys)\n\u001b[0;32m--> 168\u001b[0m \u001b[39m@classmethod\u001b[39m\n\u001b[1;32m    169\u001b[0m \u001b[39mdef\u001b[39;00m \u001b[39mtree_unflatten\u001b[39m(\u001b[39mcls\u001b[39m, keys, values):\n\u001b[1;32m    170\u001b[0m   \u001b[39m# data is already deep copied due to tree map mechanism\u001b[39;00m\n\u001b[1;32m    171\u001b[0m   \u001b[39m# we can skip the deep copy in the constructor\u001b[39;00m\n\u001b[1;32m    172\u001b[0m   \u001b[39mreturn\u001b[39;00m \u001b[39mcls\u001b[39m({k: v \u001b[39mfor\u001b[39;00m k, v \u001b[39min\u001b[39;00m \u001b[39mzip\u001b[39m(keys, values)}, __unsafe_skip_copy__\u001b[39m=\u001b[39m\u001b[39mTrue\u001b[39;00m)\n",
      "\u001b[0;31mKeyboardInterrupt\u001b[0m: "
     ]
    }
   ],
   "source": [
    "import os\n",
    "from functools import partial\n",
    "import numpy as np\n",
    "import jax\n",
    "import tqdm\n",
    "import gymnasium as gym\n",
    "\n",
    "\n",
    "from jaxrl_m.wandb import setup_wandb, default_wandb_config, get_flag_dict\n",
    "import wandb\n",
    "from jaxrl_m.evaluation import supply_rng, evaluate, flatten, EpisodeMonitor\n",
    "from jaxrl_m.dataset import ReplayBuffer\n",
    "from collections import deque\n",
    "from jax import config\n",
    "#config.update(\"jax_disable_jit\", True)\n",
    "\n",
    "env_name='InvertedPendulum-v4'\n",
    "seed=np.random.choice(1000000)\n",
    "eval_episodes=10\n",
    "batch_size = 256\n",
    "max_steps = int(1e6)\n",
    "start_steps = 5000                   \n",
    "log_interval = 5000\n",
    "#eval_interval = 10000\n",
    "\n",
    "wandb_config = default_wandb_config()\n",
    "wandb_config.update({\n",
    "    'project': 'd4rl_test',\n",
    "    'group': 'sac_test',\n",
    "    'name': 'sac_{env_name}',\n",
    "})\n",
    "\n",
    "\n",
    "env = EpisodeMonitor(gym.make(env_name))\n",
    "eval_env = EpisodeMonitor(gym.make(env_name))\n",
    "setup_wandb({\"bonjour\":1})\n",
    "\n",
    "example_transition = dict(\n",
    "    observations=env.observation_space.sample(),\n",
    "    actions=env.action_space.sample(),\n",
    "    rewards=0.0,\n",
    "    masks=1.0,\n",
    "    next_observations=env.observation_space.sample(),\n",
    "    discounts=1.0,\n",
    ")\n",
    "\n",
    "replay_buffer = ReplayBuffer.create(example_transition, size=int(1e6))\n",
    "actor_buffer = ReplayBuffer.create(example_transition, size=int(5e3))\n",
    "\n",
    "agent = create_learner(seed,\n",
    "                example_transition['observations'][None],\n",
    "                example_transition['actions'][None],\n",
    "                max_steps=max_steps,\n",
    "                #**FLAGS.config\n",
    "                )\n",
    "\n",
    "exploration_metrics = dict()\n",
    "obs,info = env.reset()    \n",
    "exploration_rng = jax.random.PRNGKey(0)\n",
    "i = 0\n",
    "unlogged_steps = 0\n",
    "policy_rollouts = deque([], maxlen=10)\n",
    "with tqdm.tqdm(total=max_steps) as pbar:\n",
    "    \n",
    "    while i < max_steps:\n",
    "    \n",
    "        replay_buffer,actor_buffer,policy_rollout,policy_return,num_steps = rollout_policy(agent,env,exploration_rng,\n",
    "                   replay_buffer,actor_buffer,\n",
    "                   warmup=(i < start_steps))\n",
    "        policy_rollouts.append(policy_rollout)\n",
    "        unlogged_steps += num_steps\n",
    "        i+=num_steps\n",
    "        pbar.update(num_steps)\n",
    "        \n",
    "            \n",
    "        if replay_buffer.size > start_steps:\n",
    "        \n",
    "         \n",
    "            transitions = replay_buffer.get_all()\n",
    "            idxs = jax.random.choice(a=replay_buffer.size, shape=(5000,256), replace=True,key=jax.random.PRNGKey(0))\n",
    "            agent.reset_critic_optimizer()\n",
    "            agent, critic_update_info = agent.update_critics(transitions,idxs,5000)\n",
    "            #R2 = evaluate_critic(agent,policy_rollouts[-1].policy_return,policy_rollouts)\n",
    "            R2 = 0\n",
    "\n",
    "            \n",
    "            actor_batch = actor_buffer.get_all()      \n",
    "            agent, actor_update_info = agent.update_actor(actor_batch)    \n",
    "            \n",
    "            \n",
    "            update_info = {**critic_update_info, **actor_update_info, 'R2_validation': R2}\n",
    "            \n",
    "            \n",
    "            if unlogged_steps > log_interval:\n",
    "                exploration_metrics = {f'exploration/disc_return': policy_return}\n",
    "                wandb.log(exploration_metrics, step=int(i),commit=False)\n",
    "                train_metrics = {f'training/{k}': v for k, v in update_info.items()}\n",
    "                wandb.log(train_metrics, step=int(i),commit=False)\n",
    "                #wandb.log(exploration_metrics, step=i)\n",
    "                policy_fn = agent.actor\n",
    "                eval_info = evaluate(policy_fn, eval_env, num_episodes=eval_episodes)\n",
    "                eval_metrics = {f'evaluation/{k}': v for k, v in eval_info.items()}\n",
    "                print('evaluating')\n",
    "                wandb.log(eval_metrics, step=int(i),commit=True)\n",
    "                unlogged_steps = 0\n"
   ]
  },
  {
   "cell_type": "code",
   "execution_count": null,
   "metadata": {},
   "outputs": [],
   "source": [
    "    \n",
    "    @jax.jit \n",
    "    def train_critics(agent, transitions: Batch,idxs:jnp.array,num_steps:int,R2_history:jnp.ndarray):\n",
    "        \n",
    "        rng = jax.random.PRNG(0)\n",
    "        rngs = jax.random.split(rng,5)\n",
    "        n_critics = 5\n",
    "        critic_mask = jnp.zeros((n_critics,))\n",
    "        opt_mask = jnp.ones(n_critics)\n",
    "        \n",
    "    \n",
    "        if jnp.min(R2_history) < 0 :\n",
    "                                critic_mask.at[jnp.argmin(R2_history)].set(1)\n",
    "                                print(f'resetting  {np.argmin(R2_history)}')\n",
    "                                                                    \n",
    "        # b_critic_params = reset_critic_vmap(critic_mask,rngs,agent_state.b_critic_params)\n",
    "        # b_critic_target_params = reset_critic_vmap(critic_mask,rngs,agent_state.b_critic_target_params)\n",
    "        # b_critic_opt_state = reset_opt_vmap(opt_mask,rngs,agent_state.b_critic_opt_state)\n",
    "        # b_batch_idxs = self.generate_batch_vmap(rngs,agent_state.buffer_max_size,num_steps,self.critic_batch_size)\n",
    "        \n",
    "    "
   ]
  }
 ],
 "metadata": {
  "kernelspec": {
   "display_name": ".venv",
   "language": "python",
   "name": "python3"
  },
  "language_info": {
   "codemirror_mode": {
    "name": "ipython",
    "version": 3
   },
   "file_extension": ".py",
   "mimetype": "text/x-python",
   "name": "python",
   "nbconvert_exporter": "python",
   "pygments_lexer": "ipython3",
   "version": "3.10.12"
  }
 },
 "nbformat": 4,
 "nbformat_minor": 2
}
