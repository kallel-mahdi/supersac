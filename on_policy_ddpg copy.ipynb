{
 "cells": [
  {
   "cell_type": "code",
   "execution_count": 1,
   "metadata": {},
   "outputs": [],
   "source": [
    "\"\"\"Implementations of algorithms for continuous control.\"\"\"\n",
    "import functools\n",
    "from jaxrl_m.typing import *\n",
    "\n",
    "import jax\n",
    "import jax.lax as lax\n",
    "import jax.numpy as jnp\n",
    "import numpy as np\n",
    "import optax\n",
    "from jaxrl_m.common import TrainState, target_update, nonpytree_field\n",
    "from jaxrl_m.networks import DeterministicPolicy,Policy, Critic, ensemblize\n",
    "\n",
    "import flax\n",
    "import flax.linen as nn\n",
    "\n",
    "from functools import partial\n",
    "\n",
    "\n",
    "\n",
    "\n",
    "\n",
    "def soft_target_update(critic_params,target_critic_params,tau: float):\n",
    "    \n",
    "    new_target_params = jax.tree_map(lambda  tp,p:  tp * (1 - tau) + p * tau,\n",
    "                                     target_critic_params,critic_params )\n",
    "\n",
    "    return new_target_params\n",
    "\n",
    "class SACAgent(flax.struct.PyTreeNode):\n",
    "    rng: PRNGKey\n",
    "    critic: TrainState\n",
    "    target_critic: TrainState\n",
    "    actor: TrainState\n",
    "    config: dict = nonpytree_field()\n",
    "    \n",
    "    \n",
    "    @jax.jit    \n",
    "    def reset_critic_optimizer(agent):\n",
    "    \n",
    "        new_opt_state = agent.critic.tx.init(agent.critic.params)\n",
    "        new_critic = agent.critic.replace(opt_state=new_opt_state)\n",
    "        \n",
    "        return agent.replace(critic=new_critic)\n",
    "\n",
    "            \n",
    "    @partial(jax.jit,static_argnames=('num_steps',))  \n",
    "    \n",
    "    def update_critics(agent, transitions: Batch,idxs:jnp.array,num_steps:int):\n",
    "        \n",
    "        def update_critic(critic,target_critic,transitions: Batch,idxs:jnp.array,num_steps:int):\n",
    "            \n",
    "            def one_update(critic,target_critic,batch: Batch):\n",
    "                    \n",
    "                new_rng, curr_key, next_key = jax.random.split(agent.rng, 3)\n",
    "\n",
    "            \n",
    "                def critic_loss_fn(critic_params):\n",
    "                    next_actions = agent.actor(batch['next_observations'])\n",
    "                    \n",
    "                    next_qs = agent.target_critic(batch['next_observations'], next_actions,True,\n",
    "                                                        params=None,rngs={'dropout': next_key})\n",
    "                    next_q = jnp.min(next_qs,axis=0)\n",
    "                    target_q = batch['rewards'] + agent.config['discount'] * batch['masks'] * next_q\n",
    "\n",
    "                    qs = agent.critic(batch['observations'], batch['actions'],True,\n",
    "                                                        params=critic_params,rngs={'dropout': curr_key},\n",
    "                                                        )\n",
    "                    \n",
    "                    critic_loss = ((target_q-qs)**2).mean()\n",
    "                    \n",
    "                    return critic_loss,{'critic_loss': critic_loss}\n",
    "                \n",
    "                new_critic,_  = agent.critic.apply_loss_fn(loss_fn=critic_loss_fn, has_aux=True)\n",
    "                new_target_critic = target_update(critic, target_critic, agent.config['target_update_rate'])\n",
    "                \n",
    "                return agent.replace(rng=new_rng), new_critic, new_target_critic\n",
    "            \n",
    "            \n",
    "            get_batch = lambda transitions,idx : jax.tree_map(lambda x : x[idx],transitions)\n",
    "            agent,critic,target_critic = jax.lax.fori_loop(0, num_steps, \n",
    "                            lambda i,args: one_update(*args,get_batch(transitions,idxs[i])),\n",
    "                            (agent,critic,target_critic))\n",
    "                            \n",
    "            \n",
    "            return critic,target_critic\n",
    "        \n",
    "        critics,target_critics = jax.vmap(update_critic,in_axes=(0,0,None,None,None))(\n",
    "                                                agent.critic,agent.target_critic,transitions,idxs,num_steps)\n",
    "        \n",
    "        agent = agent.replace(critic=critics,target_critic=target_critics)\n",
    "        \n",
    "        return agent,{}\n",
    "        \n",
    "       \n",
    "    @jax.jit \n",
    "    def train_critics(agent, transitions: Batch,idxs:jnp.array,num_steps:int,R2_history:jnp.ndarray):\n",
    "        \n",
    "        rng = jax.random.PRNG(0)\n",
    "        rngs = jax.random.split(rng,5)\n",
    "        n_critics = 5\n",
    "        critic_mask = jnp.zeros((n_critics,))\n",
    "        opt_mask = jnp.ones(n_critics)\n",
    "        \n",
    "    \n",
    "        if jnp.min(R2_history) < 0 :\n",
    "                                critic_mask.at[jnp.argmin(R2_history)].set(1)\n",
    "                                print(f'resetting  {np.argmin(R2_history)}')\n",
    "                                                                    \n",
    "        # b_critic_params = reset_critic_vmap(critic_mask,rngs,agent_state.b_critic_params)\n",
    "        # b_critic_target_params = reset_critic_vmap(critic_mask,rngs,agent_state.b_critic_target_params)\n",
    "        # b_critic_opt_state = reset_opt_vmap(opt_mask,rngs,agent_state.b_critic_opt_state)\n",
    "        # b_batch_idxs = self.generate_batch_vmap(rngs,agent_state.buffer_max_size,num_steps,self.critic_batch_size)\n",
    "        \n",
    "    \n",
    "\n",
    "        \n",
    "    @jax.jit\n",
    "    def update_actor(agent, batch: Batch):\n",
    "        new_rng, curr_key, next_key = jax.random.split(agent.rng, 3)\n",
    "\n",
    "        def actor_loss_fn(actor_params):\n",
    "            \n",
    "            actions = agent.actor(batch['observations'], params=actor_params)\n",
    "            qs = agent.critic(batch['observations'], actions)\n",
    "            q = qs.mean(axis=0)\n",
    "            actor_loss = (-q).mean()\n",
    "            \n",
    "            return actor_loss, {\n",
    "                'actor_loss': actor_loss,\n",
    "              \n",
    "            }\n",
    "\n",
    "        new_actor, actor_info = agent.actor.apply_loss_fn(loss_fn=actor_loss_fn, has_aux=True)\n",
    "\n",
    "        return agent.replace(rng=new_rng,actor=new_actor,), {**actor_info}\n",
    "        \n",
    "\n",
    "\n",
    "    @jax.jit\n",
    "    def sample_actions(agent,observations: np.ndarray) -> jnp.ndarray:\n",
    "        actions = agent.actor(observations)\n",
    "       \n",
    "        return actions\n",
    "    \n",
    " \n",
    "\n",
    "def create_learner(\n",
    "                 seed: int,\n",
    "                 observations: jnp.ndarray,\n",
    "                 actions: jnp.ndarray,\n",
    "                 actor_lr: float = 3e-4,\n",
    "                 critic_lr: float = 3e-4,\n",
    "                 hidden_dims: Sequence[int] = (256, 256),\n",
    "                 discount: float = 0.99,\n",
    "                 tau: float = 0.005,\n",
    "            **kwargs):\n",
    "\n",
    "        print('Extra kwargs:', kwargs)\n",
    "\n",
    "        rng = jax.random.PRNGKey(seed)\n",
    "        rng, actor_key, critic_key = jax.random.split(rng, 3)\n",
    "\n",
    "        action_dim = actions.shape[-1]\n",
    "        actor_def = DeterministicPolicy((64,64), action_dim=action_dim,final_fc_init_scale=1.0)\n",
    "\n",
    "        actor_params = actor_def.init(actor_key, observations)['params']\n",
    "        actor = TrainState.create(actor_def, actor_params, tx=optax.adam(learning_rate=actor_lr))\n",
    "        \n",
    "        # critic_def = ensemblize(Critic, num_qs=2,split_rngs={\"dropout\":True})(hidden_dims)\n",
    "        # critic_params = critic_def.init(critic_key, observations, actions)['params']\n",
    "        # critic = TrainState.create(critic_def, critic_params, tx=optax.adam(learning_rate=critic_lr))\n",
    "        # target_critic = TrainState.create(critic_def, critic_params)        \n",
    "\n",
    "        critic_def = Critic(hidden_dims)\n",
    "        critics_keys = jax.random.split(critic_key,5)\n",
    "        critics_params = jax.vmap(critic_def.init,in_axes=(0,None,None))(critics_keys,observations,actions)\n",
    "        tmp = partial(TrainState.create,critic_def,tx=optax.adam(learning_rate=critic_lr))\n",
    "        critics = jax.vmap(tmp)(critics_params)\n",
    "        target_critics = jax.vmap(TrainState.create,in_axes=(None,0))(critic_def,critics_params)\n",
    "\n",
    "    \n",
    "        config = flax.core.FrozenDict(dict(\n",
    "            discount=discount,\n",
    "            target_update_rate=tau,    \n",
    "        ))\n",
    "\n",
    "        #return SACAgent(rng, critic=critic, target_critic=target_critic, actor=actor, config=config)\n",
    "        return SACAgent(rng, critic=critics, target_critic=target_critics, actor=actor, config=config)\n"
   ]
  },
  {
   "cell_type": "code",
   "execution_count": 2,
   "metadata": {},
   "outputs": [
    {
     "name": "stderr",
     "output_type": "stream",
     "text": [
      "2023-12-16 02:05:31.455029: W external/xla/xla/service/gpu/nvptx_compiler.cc:679] The NVIDIA driver's CUDA version is 12.2 which is older than the ptxas CUDA version (12.3.103). Because the driver is older than the ptxas version, XLA is disabling parallel compilation, which may slow down compilation. You should update your NVIDIA driver or use the NVIDIA-provided CUDA forward compatibility packages.\n"
     ]
    },
    {
     "data": {
      "text/plain": [
       "Array(59, dtype=int32)"
      ]
     },
     "execution_count": 2,
     "metadata": {},
     "output_type": "execute_result"
    }
   ],
   "source": [
    "from jax import lax\n",
    "import numpy as np\n",
    "\n",
    "\n",
    "def cumsum(res, el):\n",
    "    \"\"\"\n",
    "    - `res`: The result from the previous loop.\n",
    "    - `el`: The current array element.\n",
    "    \"\"\"\n",
    "    res = res + el\n",
    "    return res, {}  # (\"carryover\", \"accumulated\")\n",
    "\n",
    "\n",
    "a = np.array([1, 2, 3, 5, 7, 11, 13, 17])\n",
    "result_init = 0\n",
    "final, result = lax.scan(cumsum, result_init, a)\n",
    "final"
   ]
  },
  {
   "cell_type": "code",
   "execution_count": 3,
   "metadata": {},
   "outputs": [],
   "source": [
    "from jaxrl_m.dataset import ReplayBuffer\n",
    "from flax import struct\n",
    "import chex\n",
    "\n",
    "\n",
    "\n",
    "@struct.dataclass\n",
    "class PolicyRollout:\n",
    "    \n",
    "    policy_params : chex.Array\n",
    "    num_rollouts : chex.Array \n",
    "    policy_return : chex.Array\n",
    "    observations : chex.Array\n",
    "    disc_masks : chex.Array\n",
    "    \n",
    "\n",
    "def rollout_policy(agent,env,exploration_rng,\n",
    "                   replay_buffer,actor_buffer,\n",
    "                   warmup=False,num_rollouts=5,):\n",
    "    \n",
    "    \n",
    "    actor_buffer.reset()\n",
    "    obs,_ = env.reset()  \n",
    "    n_steps,n_rollouts,episode_step,disc,mask = 0,0,0,1.,1.\n",
    "    max_steps = num_rollouts*1000\n",
    "    observations,disc_masks,rewards = np.zeros((max_steps,obs.shape[0])),np.zeros((max_steps,)),np.zeros((max_steps,))\n",
    "    \n",
    "    \n",
    "    while n_rollouts < num_rollouts:\n",
    "        \n",
    "        if warmup:\n",
    "            action = env.action_space.sample()\n",
    "        else:\n",
    "            exploration_rng, key = jax.random.split(exploration_rng)\n",
    "            action = agent.sample_actions(obs)\n",
    "        \n",
    "        next_obs, reward, done, truncated, info = env.step(action)\n",
    "        #reward = reward/400\n",
    "        \n",
    "        mask = float(not done)\n",
    "    \n",
    "        transition = dict(observations=obs,actions=action,\n",
    "            rewards=reward,masks=mask,next_observations=next_obs,discounts=disc)\n",
    "        \n",
    "        \n",
    "        replay_buffer.add_transition(transition)\n",
    "        actor_buffer.add_transition(transition)\n",
    "    \n",
    "        observations[1000*n_rollouts+episode_step] = obs\n",
    "        disc_masks[1000*n_rollouts+episode_step] = disc\n",
    "        rewards[1000*n_rollouts+episode_step] = reward\n",
    "        \n",
    "        obs = next_obs\n",
    "        disc *= (0.99*mask)\n",
    "        episode_step += 1\n",
    "        n_steps += 1\n",
    "        \n",
    "        if (done or truncated) :\n",
    "            \n",
    "            #exploration_metrics = {f'exploration/{k}': v for k, v in flatten(info).items()}\n",
    "            obs,_= env.reset()\n",
    "            n_rollouts += 1\n",
    "            episode_step = 0\n",
    "            disc,mask = 1.,1.\n",
    "\n",
    "    policy_return = (disc_masks*rewards).sum()/num_rollouts\n",
    "    policy_rollout = PolicyRollout(policy_params=agent.actor.params,\n",
    "                                   policy_return=policy_return,\n",
    "                                   observations=observations,\n",
    "                                   disc_masks=disc_masks,\n",
    "                                    num_rollouts=num_rollouts)\n",
    "    \n",
    "    return replay_buffer,actor_buffer,policy_rollout,policy_return,n_steps"
   ]
  },
  {
   "cell_type": "code",
   "execution_count": 4,
   "metadata": {},
   "outputs": [],
   "source": [
    "\n",
    "\n",
    "\n",
    "\n",
    "def f(anc_agent,obs,actor):\n",
    "\n",
    "    actions = anc_agent.actor(obs, params=actor)\n",
    "    qs = anc_agent.critic(obs, actions,params=anc_agent.target_critic.params)\n",
    "    #q = jnp.minimum(q1, q2)\n",
    "    q = qs.mean(axis=0)\n",
    "    \n",
    "    return q\n",
    "    \n",
    "\n",
    "@jax.jit\n",
    "def estimate_return(anc_agent,anc_return,acq_rollout:PolicyRollout,):\n",
    "    \n",
    "    acq_obs = acq_rollout.observations\n",
    "    acq_masks = acq_rollout.disc_masks\n",
    "  \n",
    "    acq_actor = acq_rollout.policy_params\n",
    "    acq_return = acq_rollout.policy_return\n",
    "    \n",
    "    anc_actor = anc_agent.actor.params\n",
    "    \n",
    "    acq_q = f(anc_agent,acq_obs,acq_actor)\n",
    "    anc_q = f(anc_agent,acq_obs,anc_actor)\n",
    "    \n",
    "    adv = ((acq_q - anc_q)*acq_masks).sum()/5\n",
    "    acq_return_pred = anc_return + adv\n",
    "  \n",
    "    \n",
    "    return acq_return_pred,acq_return\n",
    "\n",
    "\n",
    "def evaluate_critic(anc_agent,anc_return,policy_rollouts):\n",
    "\n",
    "    y_pred,y= [],[]\n",
    "    for policy_rollout in policy_rollouts:\n",
    "        \n",
    "        acq_return_pred,acq_return = estimate_return(anc_agent,anc_return,policy_rollout)\n",
    "        y_pred.append(acq_return_pred),y.append(acq_return)\n",
    "        \n",
    "    y_pred,y = np.array(y_pred),np.array(y)\n",
    "    a2 = jnp.clip(((y-y_pred)**2),a_min=1e-4).sum()\n",
    "    b2=((y-y.mean())**2).sum()\n",
    "    R2 = 1-(a2/b2)  \n",
    "    \n",
    "    return R2\n"
   ]
  },
  {
   "cell_type": "code",
   "execution_count": 6,
   "metadata": {},
   "outputs": [
    {
     "data": {
      "text/html": [
       "Finishing last run (ID:ldv98t4w) before initializing another..."
      ],
      "text/plain": [
       "<IPython.core.display.HTML object>"
      ]
     },
     "metadata": {},
     "output_type": "display_data"
    },
    {
     "name": "stderr",
     "output_type": "stream",
     "text": [
      "wandb: WARNING Source type is set to 'repo' but some required information is missing from the environment. A job will not be created from this run. See https://docs.wandb.ai/guides/launch/create-job\n"
     ]
    },
    {
     "data": {
      "text/html": [
       " View run <strong style=\"color:#cdcd00\">eternal-feather-110</strong> at: <a href='https://wandb.ai/mahdikallel/jaxrl_m/runs/ldv98t4w' target=\"_blank\">https://wandb.ai/mahdikallel/jaxrl_m/runs/ldv98t4w</a><br/>Synced 6 W&B file(s), 0 media file(s), 0 artifact file(s) and 1 other file(s)"
      ],
      "text/plain": [
       "<IPython.core.display.HTML object>"
      ]
     },
     "metadata": {},
     "output_type": "display_data"
    },
    {
     "data": {
      "text/html": [
       "Find logs at: <code>/tmp/tmpjaizfl1x/wandb/run-20231216_020532-ldv98t4w/logs</code>"
      ],
      "text/plain": [
       "<IPython.core.display.HTML object>"
      ]
     },
     "metadata": {},
     "output_type": "display_data"
    },
    {
     "data": {
      "text/html": [
       "Successfully finished last run (ID:ldv98t4w). Initializing new run:<br/>"
      ],
      "text/plain": [
       "<IPython.core.display.HTML object>"
      ]
     },
     "metadata": {},
     "output_type": "display_data"
    },
    {
     "data": {
      "text/html": [
       "Tracking run with wandb version 0.16.1"
      ],
      "text/plain": [
       "<IPython.core.display.HTML object>"
      ]
     },
     "metadata": {},
     "output_type": "display_data"
    },
    {
     "data": {
      "text/html": [
       "Run data is saved locally in <code>/tmp/tmp7i1fz2i7/wandb/run-20231216_020553-9jjbqk9u</code>"
      ],
      "text/plain": [
       "<IPython.core.display.HTML object>"
      ]
     },
     "metadata": {},
     "output_type": "display_data"
    },
    {
     "data": {
      "text/html": [
       "Syncing run <strong><a href='https://wandb.ai/mahdikallel/jaxrl_m/runs/9jjbqk9u' target=\"_blank\">autumn-wood-111</a></strong> to <a href='https://wandb.ai/mahdikallel/jaxrl_m' target=\"_blank\">Weights & Biases</a> (<a href='https://wandb.me/run' target=\"_blank\">docs</a>)<br/>"
      ],
      "text/plain": [
       "<IPython.core.display.HTML object>"
      ]
     },
     "metadata": {},
     "output_type": "display_data"
    },
    {
     "data": {
      "text/html": [
       " View project at <a href='https://wandb.ai/mahdikallel/jaxrl_m' target=\"_blank\">https://wandb.ai/mahdikallel/jaxrl_m</a>"
      ],
      "text/plain": [
       "<IPython.core.display.HTML object>"
      ]
     },
     "metadata": {},
     "output_type": "display_data"
    },
    {
     "data": {
      "text/html": [
       " View run at <a href='https://wandb.ai/mahdikallel/jaxrl_m/runs/9jjbqk9u' target=\"_blank\">https://wandb.ai/mahdikallel/jaxrl_m/runs/9jjbqk9u</a>"
      ],
      "text/plain": [
       "<IPython.core.display.HTML object>"
      ]
     },
     "metadata": {},
     "output_type": "display_data"
    },
    {
     "name": "stdout",
     "output_type": "stream",
     "text": [
      "Extra kwargs: {'max_steps': 1000000}\n"
     ]
    },
    {
     "name": "stderr",
     "output_type": "stream",
     "text": [
      "  1%|          | 5025/1000000 [00:00<01:02, 15932.00it/s]\n"
     ]
    },
    {
     "ename": "UnboundLocalError",
     "evalue": "local variable 'agent' referenced before assignment",
     "output_type": "error",
     "traceback": [
      "\u001b[0;31m---------------------------------------------------------------------------\u001b[0m",
      "\u001b[0;31mUnboundLocalError\u001b[0m                         Traceback (most recent call last)",
      "Cell \u001b[0;32mIn[6], line 81\u001b[0m\n\u001b[1;32m     79\u001b[0m idxs \u001b[38;5;241m=\u001b[39m jax\u001b[38;5;241m.\u001b[39mrandom\u001b[38;5;241m.\u001b[39mchoice(a\u001b[38;5;241m=\u001b[39mreplay_buffer\u001b[38;5;241m.\u001b[39msize, shape\u001b[38;5;241m=\u001b[39m(\u001b[38;5;241m5000\u001b[39m,\u001b[38;5;241m256\u001b[39m), replace\u001b[38;5;241m=\u001b[39m\u001b[38;5;28;01mTrue\u001b[39;00m,key\u001b[38;5;241m=\u001b[39mjax\u001b[38;5;241m.\u001b[39mrandom\u001b[38;5;241m.\u001b[39mPRNGKey(\u001b[38;5;241m0\u001b[39m))\n\u001b[1;32m     80\u001b[0m agent\u001b[38;5;241m.\u001b[39mreset_critic_optimizer()\n\u001b[0;32m---> 81\u001b[0m agent, critic_update_info \u001b[38;5;241m=\u001b[39m \u001b[43magent\u001b[49m\u001b[38;5;241;43m.\u001b[39;49m\u001b[43mupdate_critics\u001b[49m\u001b[43m(\u001b[49m\u001b[43mtransitions\u001b[49m\u001b[43m,\u001b[49m\u001b[43midxs\u001b[49m\u001b[43m,\u001b[49m\u001b[38;5;241;43m5000\u001b[39;49m\u001b[43m)\u001b[49m\n\u001b[1;32m     82\u001b[0m R2 \u001b[38;5;241m=\u001b[39m evaluate_critic(agent,policy_rollouts[\u001b[38;5;241m-\u001b[39m\u001b[38;5;241m1\u001b[39m]\u001b[38;5;241m.\u001b[39mpolicy_return,policy_rollouts)\n\u001b[1;32m     85\u001b[0m actor_batch \u001b[38;5;241m=\u001b[39m actor_buffer\u001b[38;5;241m.\u001b[39mget_all()      \n",
      "    \u001b[0;31m[... skipping hidden 12 frame]\u001b[0m\n",
      "Cell \u001b[0;32mIn[1], line 88\u001b[0m, in \u001b[0;36mSACAgent.update_critics\u001b[0;34m(agent, transitions, idxs, num_steps)\u001b[0m\n\u001b[1;32m     81\u001b[0m     agent,critic,target_critic \u001b[38;5;241m=\u001b[39m jax\u001b[38;5;241m.\u001b[39mlax\u001b[38;5;241m.\u001b[39mfori_loop(\u001b[38;5;241m0\u001b[39m, num_steps, \n\u001b[1;32m     82\u001b[0m                     \u001b[38;5;28;01mlambda\u001b[39;00m i,args: one_update(\u001b[38;5;241m*\u001b[39margs,get_batch(transitions,idxs[i])),\n\u001b[1;32m     83\u001b[0m                     (agent,critic,target_critic))\n\u001b[1;32m     86\u001b[0m     \u001b[38;5;28;01mreturn\u001b[39;00m critic,target_critic\n\u001b[0;32m---> 88\u001b[0m critics,target_critics \u001b[38;5;241m=\u001b[39m \u001b[43mjax\u001b[49m\u001b[38;5;241;43m.\u001b[39;49m\u001b[43mvmap\u001b[49m\u001b[43m(\u001b[49m\u001b[43mupdate_critic\u001b[49m\u001b[43m,\u001b[49m\u001b[43min_axes\u001b[49m\u001b[38;5;241;43m=\u001b[39;49m\u001b[43m(\u001b[49m\u001b[38;5;241;43m0\u001b[39;49m\u001b[43m,\u001b[49m\u001b[38;5;241;43m0\u001b[39;49m\u001b[43m,\u001b[49m\u001b[38;5;28;43;01mNone\u001b[39;49;00m\u001b[43m,\u001b[49m\u001b[38;5;28;43;01mNone\u001b[39;49;00m\u001b[43m,\u001b[49m\u001b[38;5;28;43;01mNone\u001b[39;49;00m\u001b[43m)\u001b[49m\u001b[43m)\u001b[49m\u001b[43m(\u001b[49m\n\u001b[1;32m     89\u001b[0m \u001b[43m                                        \u001b[49m\u001b[43magent\u001b[49m\u001b[38;5;241;43m.\u001b[39;49m\u001b[43mcritic\u001b[49m\u001b[43m,\u001b[49m\u001b[43magent\u001b[49m\u001b[38;5;241;43m.\u001b[39;49m\u001b[43mtarget_critic\u001b[49m\u001b[43m,\u001b[49m\u001b[43mtransitions\u001b[49m\u001b[43m,\u001b[49m\u001b[43midxs\u001b[49m\u001b[43m,\u001b[49m\u001b[43mnum_steps\u001b[49m\u001b[43m)\u001b[49m\n\u001b[1;32m     91\u001b[0m agent \u001b[38;5;241m=\u001b[39m agent\u001b[38;5;241m.\u001b[39mreplace(critic\u001b[38;5;241m=\u001b[39mcritics,target_critic\u001b[38;5;241m=\u001b[39mtarget_critics)\n\u001b[1;32m     93\u001b[0m \u001b[38;5;28;01mreturn\u001b[39;00m agent,{}\n",
      "    \u001b[0;31m[... skipping hidden 3 frame]\u001b[0m\n",
      "Cell \u001b[0;32mIn[1], line 80\u001b[0m, in \u001b[0;36mSACAgent.update_critics.<locals>.update_critic\u001b[0;34m(critic, target_critic, transitions, idxs, num_steps)\u001b[0m\n\u001b[1;32m     76\u001b[0m     \u001b[38;5;28;01mreturn\u001b[39;00m agent\u001b[38;5;241m.\u001b[39mreplace(rng\u001b[38;5;241m=\u001b[39mnew_rng), new_critic, new_target_critic\n\u001b[1;32m     79\u001b[0m get_batch \u001b[38;5;241m=\u001b[39m \u001b[38;5;28;01mlambda\u001b[39;00m transitions,idx : jax\u001b[38;5;241m.\u001b[39mtree_map(\u001b[38;5;28;01mlambda\u001b[39;00m x : x[idx],transitions)\n\u001b[0;32m---> 80\u001b[0m critic,target_critic \u001b[38;5;241m=\u001b[39m \u001b[43magent\u001b[49m\u001b[38;5;241m.\u001b[39mcritic,agent\u001b[38;5;241m.\u001b[39mtarget_critic\n\u001b[1;32m     81\u001b[0m agent,critic,target_critic \u001b[38;5;241m=\u001b[39m jax\u001b[38;5;241m.\u001b[39mlax\u001b[38;5;241m.\u001b[39mfori_loop(\u001b[38;5;241m0\u001b[39m, num_steps, \n\u001b[1;32m     82\u001b[0m                 \u001b[38;5;28;01mlambda\u001b[39;00m i,args: one_update(\u001b[38;5;241m*\u001b[39margs,get_batch(transitions,idxs[i])),\n\u001b[1;32m     83\u001b[0m                 (agent,critic,target_critic))\n\u001b[1;32m     86\u001b[0m \u001b[38;5;28;01mreturn\u001b[39;00m critic,target_critic\n",
      "\u001b[0;31mUnboundLocalError\u001b[0m: local variable 'agent' referenced before assignment"
     ]
    }
   ],
   "source": [
    "import os\n",
    "from functools import partial\n",
    "import numpy as np\n",
    "import jax\n",
    "import tqdm\n",
    "import gymnasium as gym\n",
    "\n",
    "\n",
    "from jaxrl_m.wandb import setup_wandb, default_wandb_config, get_flag_dict\n",
    "import wandb\n",
    "from jaxrl_m.evaluation import supply_rng, evaluate, flatten, EpisodeMonitor\n",
    "from jaxrl_m.dataset import ReplayBuffer\n",
    "from collections import deque\n",
    "\n",
    "\n",
    "env_name='InvertedPendulum-v4'\n",
    "seed=np.random.choice(1000000)\n",
    "eval_episodes=10\n",
    "batch_size = 256\n",
    "max_steps = int(1e6)\n",
    "start_steps = 5000                   \n",
    "log_interval = 5000\n",
    "#eval_interval = 10000\n",
    "\n",
    "wandb_config = default_wandb_config()\n",
    "wandb_config.update({\n",
    "    'project': 'd4rl_test',\n",
    "    'group': 'sac_test',\n",
    "    'name': 'sac_{env_name}',\n",
    "})\n",
    "\n",
    "\n",
    "env = EpisodeMonitor(gym.make(env_name))\n",
    "eval_env = EpisodeMonitor(gym.make(env_name))\n",
    "setup_wandb({\"bonjour\":1})\n",
    "\n",
    "example_transition = dict(\n",
    "    observations=env.observation_space.sample(),\n",
    "    actions=env.action_space.sample(),\n",
    "    rewards=0.0,\n",
    "    masks=1.0,\n",
    "    next_observations=env.observation_space.sample(),\n",
    "    discounts=1.0,\n",
    ")\n",
    "\n",
    "replay_buffer = ReplayBuffer.create(example_transition, size=int(1e6))\n",
    "actor_buffer = ReplayBuffer.create(example_transition, size=int(5e3))\n",
    "\n",
    "agent = create_learner(seed,\n",
    "                example_transition['observations'][None],\n",
    "                example_transition['actions'][None],\n",
    "                max_steps=max_steps,\n",
    "                #**FLAGS.config\n",
    "                )\n",
    "\n",
    "exploration_metrics = dict()\n",
    "obs,info = env.reset()    \n",
    "exploration_rng = jax.random.PRNGKey(0)\n",
    "i = 0\n",
    "unlogged_steps = 0\n",
    "policy_rollouts = deque([], maxlen=10)\n",
    "with tqdm.tqdm(total=max_steps) as pbar:\n",
    "    \n",
    "    while i < max_steps:\n",
    "    \n",
    "        replay_buffer,actor_buffer,policy_rollout,policy_return,num_steps = rollout_policy(agent,env,exploration_rng,\n",
    "                   replay_buffer,actor_buffer,\n",
    "                   warmup=(i < start_steps))\n",
    "        policy_rollouts.append(policy_rollout)\n",
    "        unlogged_steps += num_steps\n",
    "        i+=num_steps\n",
    "        pbar.update(num_steps)\n",
    "        \n",
    "            \n",
    "        if replay_buffer.size > start_steps:\n",
    "        \n",
    "         \n",
    "            transitions = replay_buffer.get_all()\n",
    "            idxs = jax.random.choice(a=replay_buffer.size, shape=(5000,256), replace=True,key=jax.random.PRNGKey(0))\n",
    "            agent.reset_critic_optimizer()\n",
    "            agent, critic_update_info = agent.update_critics(transitions,idxs,5000)\n",
    "            R2 = evaluate_critic(agent,policy_rollouts[-1].policy_return,policy_rollouts)\n",
    "\n",
    "            \n",
    "            actor_batch = actor_buffer.get_all()      \n",
    "            agent, actor_update_info = agent.update_actor(actor_batch)    \n",
    "            \n",
    "            \n",
    "            update_info = {**critic_update_info, **actor_update_info, 'R2_validation': R2}\n",
    "            \n",
    "            \n",
    "            if unlogged_steps > log_interval:\n",
    "                exploration_metrics = {f'exploration/disc_return': policy_return}\n",
    "                wandb.log(exploration_metrics, step=int(i),commit=False)\n",
    "                train_metrics = {f'training/{k}': v for k, v in update_info.items()}\n",
    "                wandb.log(train_metrics, step=int(i),commit=False)\n",
    "                #wandb.log(exploration_metrics, step=i)\n",
    "                policy_fn = agent.actor\n",
    "                eval_info = evaluate(policy_fn, eval_env, num_episodes=eval_episodes)\n",
    "                eval_metrics = {f'evaluation/{k}': v for k, v in eval_info.items()}\n",
    "                print('evaluating')\n",
    "                wandb.log(eval_metrics, step=int(i),commit=True)\n",
    "                unlogged_steps = 0\n"
   ]
  },
  {
   "cell_type": "code",
   "execution_count": null,
   "metadata": {},
   "outputs": [],
   "source": []
  }
 ],
 "metadata": {
  "kernelspec": {
   "display_name": ".venv",
   "language": "python",
   "name": "python3"
  },
  "language_info": {
   "codemirror_mode": {
    "name": "ipython",
    "version": 3
   },
   "file_extension": ".py",
   "mimetype": "text/x-python",
   "name": "python",
   "nbconvert_exporter": "python",
   "pygments_lexer": "ipython3",
   "version": "3.10.12"
  }
 },
 "nbformat": 4,
 "nbformat_minor": 2
}
