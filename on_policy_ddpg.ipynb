{
 "cells": [
  {
   "cell_type": "code",
   "execution_count": 1,
   "metadata": {},
   "outputs": [],
   "source": [
    "\"\"\"Implementations of algorithms for continuous control.\"\"\"\n",
    "import functools\n",
    "from jaxrl_m.typing import *\n",
    "\n",
    "import jax\n",
    "import jax.lax as lax\n",
    "import jax.numpy as jnp\n",
    "import numpy as np\n",
    "import optax\n",
    "from jaxrl_m.common import TrainState, target_update, nonpytree_field\n",
    "from jaxrl_m.networks import DeterministicPolicy,Policy, Critic, ensemblize\n",
    "\n",
    "import flax\n",
    "import flax.linen as nn\n",
    "\n",
    "from functools import partial\n",
    "\n",
    "\n",
    "\n",
    "class SACAgent(flax.struct.PyTreeNode):\n",
    "    rng: PRNGKey\n",
    "    critic: TrainState\n",
    "    target_critic: TrainState\n",
    "    actor: TrainState\n",
    "    config: dict = nonpytree_field()\n",
    "    \n",
    "    \n",
    "    @jax.jit    \n",
    "    def reset_critic_optimizer(agent):\n",
    "    \n",
    "        new_opt_state = agent.critic.tx.init(agent.critic.params)\n",
    "        new_critic = agent.critic.replace(opt_state=new_opt_state)\n",
    "        \n",
    "        return agent.replace(critic=new_critic)\n",
    "\n",
    "\n",
    "    #     # update = lambda target : target_update(new_critic,target,agent.config['target_update_rate'])\n",
    "    #     # no_update = lambda target: target\n",
    "    #     # new_target_critic = lax.cond(num_update%2==0,update,no_update,agent.target_critic)\n",
    "        \n",
    "        \n",
    "        \n",
    "    @partial(jax.jit,static_argnames=('num_steps',))  \n",
    "    def update_critic(agent, transitions: Batch,idxs:jnp.array,num_steps:int):\n",
    "        \n",
    "        def one_update(agent, batch: Batch):\n",
    "                \n",
    "            new_rng, curr_key, next_key = jax.random.split(agent.rng, 3)\n",
    "\n",
    "        \n",
    "            def critic_loss_fn(critic_params):\n",
    "                next_actions = agent.actor(batch['next_observations'])\n",
    "                \n",
    "                next_qs = agent.target_critic(batch['next_observations'], next_actions,True,\n",
    "                                                    params=None,rngs={'dropout': next_key})\n",
    "                next_q = jnp.min(next_qs,axis=0)\n",
    "                target_q = batch['rewards'] + agent.config['discount'] * batch['masks'] * next_q\n",
    "\n",
    "                qs = agent.critic(batch['observations'], batch['actions'],True,\n",
    "                                                    params=critic_params,rngs={'dropout': curr_key},\n",
    "                                                    )\n",
    "                \n",
    "                critic_loss = ((target_q-qs)**2).mean()\n",
    "                \n",
    "                return critic_loss, {\n",
    "                    'critic_loss': critic_loss,\n",
    "                    'q1': qs.mean(),\n",
    "                }  \n",
    "            \n",
    "            new_critic, critic_info = agent.critic.apply_loss_fn(loss_fn=critic_loss_fn, has_aux=True)\n",
    "            new_target_critic = target_update(agent.critic, agent.target_critic, agent.config['target_update_rate'])\n",
    "            return agent.replace(rng=new_rng, critic=new_critic, target_critic=new_target_critic)\n",
    "        \n",
    "        \n",
    "        get_batch = lambda transitions,idx : jax.tree_map(lambda x : x[idx],transitions)\n",
    "        \n",
    "        agent = jax.lax.fori_loop(0, num_steps, \n",
    "                        lambda i, agent: one_update(agent,get_batch(transitions,idxs[i])),\n",
    "                        agent)\n",
    "        \n",
    "        return agent,{}\n",
    "       \n",
    "    @jax.jit \n",
    "    def train_critics(agent, transitions: Batch,idxs:jnp.array,num_steps:int,R2_history:jnp.ndarray):\n",
    "        \n",
    "        rng = jax.random.PRNG(0)\n",
    "        rngs = jax.random.split(rng,5)\n",
    "        n_critics = 5\n",
    "        critic_mask = jnp.zeros((n_critics,))\n",
    "        opt_mask = jnp.ones(n_critics)\n",
    "        \n",
    "    \n",
    "        if jnp.min(R2_history) < 0 :\n",
    "                                critic_mask.at[jnp.argmin(R2_history)].set(1)\n",
    "                                print(f'resetting  {np.argmin(R2_history)}')\n",
    "                                                                    \n",
    "        # b_critic_params = reset_critic_vmap(critic_mask,rngs,agent_state.b_critic_params)\n",
    "        # b_critic_target_params = reset_critic_vmap(critic_mask,rngs,agent_state.b_critic_target_params)\n",
    "        # b_critic_opt_state = reset_opt_vmap(opt_mask,rngs,agent_state.b_critic_opt_state)\n",
    "        # b_batch_idxs = self.generate_batch_vmap(rngs,agent_state.buffer_max_size,num_steps,self.critic_batch_size)\n",
    "        \n",
    "    \n",
    "\n",
    "        \n",
    "    @jax.jit\n",
    "    def update_actor(agent, batch: Batch):\n",
    "        new_rng, curr_key, next_key = jax.random.split(agent.rng, 3)\n",
    "\n",
    "        def actor_loss_fn(actor_params):\n",
    "            \n",
    "            actions = agent.actor(batch['observations'], params=actor_params)\n",
    "            qs = agent.critic(batch['observations'], actions)\n",
    "            q = qs.mean(axis=0)\n",
    "            actor_loss = (-q).mean()\n",
    "            \n",
    "            return actor_loss, {\n",
    "                'actor_loss': actor_loss,\n",
    "              \n",
    "            }\n",
    "\n",
    "        new_actor, actor_info = agent.actor.apply_loss_fn(loss_fn=actor_loss_fn, has_aux=True)\n",
    "\n",
    "        return agent.replace(rng=new_rng,actor=new_actor,), {**actor_info}\n",
    "        \n",
    "\n",
    "\n",
    "    @jax.jit\n",
    "    def sample_actions(agent,observations: np.ndarray) -> jnp.ndarray:\n",
    "        actions = agent.actor(observations)\n",
    "       \n",
    "        return actions\n",
    "    \n",
    " \n",
    "\n",
    "def create_learner(\n",
    "                 seed: int,\n",
    "                 observations: jnp.ndarray,\n",
    "                 actions: jnp.ndarray,\n",
    "                 actor_lr: float = 3e-4,\n",
    "                 critic_lr: float = 3e-4,\n",
    "                 hidden_dims: Sequence[int] = (256, 256),\n",
    "                 discount: float = 0.99,\n",
    "                 tau: float = 0.005,\n",
    "            **kwargs):\n",
    "\n",
    "        print('Extra kwargs:', kwargs)\n",
    "\n",
    "        rng = jax.random.PRNGKey(seed)\n",
    "        rng, actor_key, critic_key = jax.random.split(rng, 3)\n",
    "\n",
    "        action_dim = actions.shape[-1]\n",
    "        actor_def = DeterministicPolicy((64,64), action_dim=action_dim,final_fc_init_scale=1.0)\n",
    "\n",
    "        actor_params = actor_def.init(actor_key, observations)['params']\n",
    "        actor = TrainState.create(actor_def, actor_params, tx=optax.adam(learning_rate=actor_lr))\n",
    "        \n",
    "        \n",
    "        critic_def = ensemblize(Critic, num_qs=2,split_rngs={\"dropout\":True})(hidden_dims)\n",
    "        critic_params = critic_def.init(critic_key, observations, actions)['params']\n",
    "        critic = TrainState.create(critic_def, critic_params, tx=optax.adam(learning_rate=critic_lr))\n",
    "        target_critic = TrainState.create(critic_def, critic_params)        \n",
    "\n",
    "        # critic_def = Critic(hidden_dims)\n",
    "        # critics_keys = jax.random.split(critic_key,5)\n",
    "        # critics_params = jax.vmap(critic_def.init,in_axes=(0,None,None))(critics_keys,observations,actions)\n",
    "        # tmp = partial(TrainState.create,critic_def,tx=optax.adam(learning_rate=critic_lr))\n",
    "        # critics = jax.vmap(tmp)(critics_params)\n",
    "        # target_critics = jax.vmap(TrainState.create,in_axes=(None,0))(critic_def,critics_params)\n",
    "\n",
    "    \n",
    "        config = flax.core.FrozenDict(dict(\n",
    "            discount=discount,\n",
    "            target_update_rate=tau,    \n",
    "        ))\n",
    "\n",
    "        return SACAgent(rng, critic=critic, target_critic=target_critic, actor=actor, config=config)\n",
    "        #return SACAgent(rng, critic=critics, target_critic=target_critics, actor=actor, config=config)\n",
    "\n"
   ]
  },
  {
   "cell_type": "code",
   "execution_count": 2,
   "metadata": {},
   "outputs": [],
   "source": [
    "from jaxrl_m.dataset import ReplayBuffer\n",
    "from flax import struct\n",
    "import chex\n",
    "\n",
    "\n",
    "\n",
    "@struct.dataclass\n",
    "class PolicyRollout:\n",
    "    \n",
    "    policy_params : chex.Array\n",
    "    num_rollouts : chex.Array \n",
    "    policy_return : chex.Array\n",
    "    observations : chex.Array\n",
    "    disc_masks : chex.Array\n",
    "    \n",
    "\n",
    "def rollout_policy(agent,env,exploration_rng,\n",
    "                   replay_buffer,actor_buffer,\n",
    "                   warmup=False,num_rollouts=5,):\n",
    "    \n",
    "    \n",
    "    actor_buffer.reset()\n",
    "    obs,_ = env.reset()  \n",
    "    n_steps,n_rollouts,episode_step,disc,mask = 0,0,0,1.,1.\n",
    "    max_steps = num_rollouts*1000\n",
    "    observations,disc_masks,rewards = np.zeros((max_steps,obs.shape[0])),np.zeros((max_steps,)),np.zeros((max_steps,))\n",
    "    \n",
    "    \n",
    "    while n_rollouts < num_rollouts:\n",
    "        \n",
    "        if warmup:\n",
    "            action = env.action_space.sample()\n",
    "        else:\n",
    "            exploration_rng, key = jax.random.split(exploration_rng)\n",
    "            action = agent.sample_actions(obs)\n",
    "        \n",
    "        next_obs, reward, done, truncated, info = env.step(action)\n",
    "        #reward = reward/400\n",
    "        \n",
    "        mask = float(not done)\n",
    "    \n",
    "        transition = dict(observations=obs,actions=action,\n",
    "            rewards=reward,masks=mask,next_observations=next_obs,discounts=disc)\n",
    "        \n",
    "        \n",
    "        replay_buffer.add_transition(transition)\n",
    "        actor_buffer.add_transition(transition)\n",
    "    \n",
    "        observations[1000*n_rollouts+episode_step] = obs\n",
    "        disc_masks[1000*n_rollouts+episode_step] = disc\n",
    "        rewards[1000*n_rollouts+episode_step] = reward\n",
    "        \n",
    "        obs = next_obs\n",
    "        disc *= (0.99*mask)\n",
    "        episode_step += 1\n",
    "        n_steps += 1\n",
    "        \n",
    "        if (done or truncated) :\n",
    "            \n",
    "            #exploration_metrics = {f'exploration/{k}': v for k, v in flatten(info).items()}\n",
    "            obs,_= env.reset()\n",
    "            n_rollouts += 1\n",
    "            episode_step = 0\n",
    "            disc,mask = 1.,1.\n",
    "\n",
    "    policy_return = (disc_masks*rewards).sum()/num_rollouts\n",
    "    policy_rollout = PolicyRollout(policy_params=agent.actor.params,\n",
    "                                   policy_return=policy_return,\n",
    "                                   observations=observations,\n",
    "                                   disc_masks=disc_masks,\n",
    "                                    num_rollouts=num_rollouts)\n",
    "    \n",
    "    return replay_buffer,actor_buffer,policy_rollout,policy_return,n_steps"
   ]
  },
  {
   "cell_type": "code",
   "execution_count": 3,
   "metadata": {},
   "outputs": [],
   "source": [
    "\n",
    "\n",
    "\n",
    "\n",
    "def f(anc_agent,obs,actor):\n",
    "\n",
    "    actions = anc_agent.actor(obs, params=actor)\n",
    "    qs = anc_agent.critic(obs, actions,params=anc_agent.target_critic.params)\n",
    "    #q = jnp.minimum(q1, q2)\n",
    "    q = qs.mean(axis=0)\n",
    "    \n",
    "    return q\n",
    "    \n",
    "\n",
    "@jax.jit\n",
    "def estimate_return(anc_agent,anc_return,acq_rollout:PolicyRollout,):\n",
    "    \n",
    "    acq_obs = acq_rollout.observations\n",
    "    acq_masks = acq_rollout.disc_masks\n",
    "  \n",
    "    acq_actor = acq_rollout.policy_params\n",
    "    acq_return = acq_rollout.policy_return\n",
    "    \n",
    "    anc_actor = anc_agent.actor.params\n",
    "    \n",
    "    acq_q = f(anc_agent,acq_obs,acq_actor)\n",
    "    anc_q = f(anc_agent,acq_obs,anc_actor)\n",
    "    \n",
    "    adv = ((acq_q - anc_q)*acq_masks).sum()/5\n",
    "    acq_return_pred = anc_return + adv\n",
    "  \n",
    "    \n",
    "    return acq_return_pred,acq_return\n",
    "\n",
    "\n",
    "def evaluate_critic(anc_agent,anc_return,policy_rollouts):\n",
    "\n",
    "    y_pred,y= [],[]\n",
    "    for policy_rollout in policy_rollouts:\n",
    "        \n",
    "        acq_return_pred,acq_return = estimate_return(anc_agent,anc_return,policy_rollout)\n",
    "        y_pred.append(acq_return_pred),y.append(acq_return)\n",
    "        \n",
    "    y_pred,y = np.array(y_pred),np.array(y)\n",
    "    a2 = jnp.clip(((y-y_pred)**2),a_min=1e-4).sum()\n",
    "    b2=((y-y.mean())**2).sum()\n",
    "    R2 = 1-(a2/b2)  \n",
    "    \n",
    "    return R2\n"
   ]
  },
  {
   "cell_type": "code",
   "execution_count": 4,
   "metadata": {},
   "outputs": [
    {
     "name": "stderr",
     "output_type": "stream",
     "text": [
      "2023-12-18 16:56:57.188983: W external/xla/xla/service/gpu/nvptx_compiler.cc:679] The NVIDIA driver's CUDA version is 12.2 which is older than the ptxas CUDA version (12.3.103). Because the driver is older than the ptxas version, XLA is disabling parallel compilation, which may slow down compilation. You should update your NVIDIA driver or use the NVIDIA-provided CUDA forward compatibility packages.\n",
      "Failed to detect the name of this notebook, you can set it manually with the WANDB_NOTEBOOK_NAME environment variable to enable code saving.\n",
      "\u001b[34m\u001b[1mwandb\u001b[0m: Currently logged in as: \u001b[33mmahdikallel\u001b[0m. Use \u001b[1m`wandb login --relogin`\u001b[0m to force relogin\n"
     ]
    },
    {
     "data": {
      "text/html": [
       "Tracking run with wandb version 0.16.1"
      ],
      "text/plain": [
       "<IPython.core.display.HTML object>"
      ]
     },
     "metadata": {},
     "output_type": "display_data"
    },
    {
     "data": {
      "text/html": [
       "Run data is saved locally in <code>/tmp/tmpf9r_mecj/wandb/run-20231218_165658-vg8isyav</code>"
      ],
      "text/plain": [
       "<IPython.core.display.HTML object>"
      ]
     },
     "metadata": {},
     "output_type": "display_data"
    },
    {
     "data": {
      "text/html": [
       "Syncing run <strong><a href='https://wandb.ai/mahdikallel/jaxrl_m/runs/vg8isyav' target=\"_blank\">resilient-pine-143</a></strong> to <a href='https://wandb.ai/mahdikallel/jaxrl_m' target=\"_blank\">Weights & Biases</a> (<a href='https://wandb.me/run' target=\"_blank\">docs</a>)<br/>"
      ],
      "text/plain": [
       "<IPython.core.display.HTML object>"
      ]
     },
     "metadata": {},
     "output_type": "display_data"
    },
    {
     "data": {
      "text/html": [
       " View project at <a href='https://wandb.ai/mahdikallel/jaxrl_m' target=\"_blank\">https://wandb.ai/mahdikallel/jaxrl_m</a>"
      ],
      "text/plain": [
       "<IPython.core.display.HTML object>"
      ]
     },
     "metadata": {},
     "output_type": "display_data"
    },
    {
     "data": {
      "text/html": [
       " View run at <a href='https://wandb.ai/mahdikallel/jaxrl_m/runs/vg8isyav' target=\"_blank\">https://wandb.ai/mahdikallel/jaxrl_m/runs/vg8isyav</a>"
      ],
      "text/plain": [
       "<IPython.core.display.HTML object>"
      ]
     },
     "metadata": {},
     "output_type": "display_data"
    },
    {
     "name": "stdout",
     "output_type": "stream",
     "text": [
      "Extra kwargs: {'max_steps': 1000000}\n"
     ]
    },
    {
     "name": "stderr",
     "output_type": "stream",
     "text": [
      "  5%|▍         | 49298/1000000 [00:02<00:39, 24284.77it/s]"
     ]
    },
    {
     "name": "stdout",
     "output_type": "stream",
     "text": [
      "evaluating\n"
     ]
    },
    {
     "name": "stderr",
     "output_type": "stream",
     "text": [
      "  6%|▌         | 55402/1000000 [00:18<23:10, 679.33it/s]  "
     ]
    },
    {
     "name": "stdout",
     "output_type": "stream",
     "text": [
      "evaluating\n"
     ]
    },
    {
     "name": "stderr",
     "output_type": "stream",
     "text": [
      "  6%|▌         | 60623/1000000 [00:32<28:14, 554.49it/s]"
     ]
    },
    {
     "name": "stdout",
     "output_type": "stream",
     "text": [
      "evaluating\n"
     ]
    },
    {
     "name": "stderr",
     "output_type": "stream",
     "text": [
      "  7%|▋         | 66153/1000000 [00:46<26:21, 590.40it/s]  "
     ]
    },
    {
     "name": "stdout",
     "output_type": "stream",
     "text": [
      "evaluating\n"
     ]
    },
    {
     "name": "stderr",
     "output_type": "stream",
     "text": [
      "  7%|▋         | 71510/1000000 [01:03<29:46, 519.85it/s]  "
     ]
    },
    {
     "name": "stdout",
     "output_type": "stream",
     "text": [
      "evaluating\n"
     ]
    },
    {
     "name": "stderr",
     "output_type": "stream",
     "text": [
      "  8%|▊         | 77383/1000000 [01:19<27:03, 568.16it/s]  "
     ]
    },
    {
     "name": "stdout",
     "output_type": "stream",
     "text": [
      "evaluating\n"
     ]
    },
    {
     "name": "stderr",
     "output_type": "stream",
     "text": [
      "  8%|▊         | 82563/1000000 [01:34<27:49, 549.49it/s]  "
     ]
    },
    {
     "name": "stdout",
     "output_type": "stream",
     "text": [
      "evaluating\n"
     ]
    },
    {
     "name": "stderr",
     "output_type": "stream",
     "text": [
      "  9%|▉         | 88448/1000000 [01:50<27:51, 545.47it/s]  "
     ]
    },
    {
     "name": "stdout",
     "output_type": "stream",
     "text": [
      "evaluating\n"
     ]
    },
    {
     "name": "stderr",
     "output_type": "stream",
     "text": [
      "  9%|▉         | 93724/1000000 [02:20<31:34, 478.45it/s]  "
     ]
    },
    {
     "name": "stdout",
     "output_type": "stream",
     "text": [
      "evaluating\n"
     ]
    },
    {
     "name": "stderr",
     "output_type": "stream",
     "text": [
      " 10%|█         | 100038/1000000 [02:40<30:38, 489.48it/s] "
     ]
    },
    {
     "name": "stdout",
     "output_type": "stream",
     "text": [
      "evaluating\n"
     ]
    },
    {
     "name": "stderr",
     "output_type": "stream",
     "text": [
      " 11%|█         | 106089/1000000 [02:53<24:25, 609.94it/s]  \n"
     ]
    },
    {
     "ename": "KeyboardInterrupt",
     "evalue": "",
     "output_type": "error",
     "traceback": [
      "\u001b[0;31m---------------------------------------------------------------------------\u001b[0m",
      "\u001b[0;31mKeyboardInterrupt\u001b[0m                         Traceback (most recent call last)",
      "\u001b[1;32m/home/mahdi/Desktop/supersac/on_policy_ddpg.ipynb Cell 4\u001b[0m line \u001b[0;36m9\n\u001b[1;32m     <a href='vscode-notebook-cell:/home/mahdi/Desktop/supersac/on_policy_ddpg.ipynb#W3sZmlsZQ%3D%3D?line=96'>97</a>\u001b[0m \u001b[39m#wandb.log(exploration_metrics, step=i)\u001b[39;00m\n\u001b[1;32m     <a href='vscode-notebook-cell:/home/mahdi/Desktop/supersac/on_policy_ddpg.ipynb#W3sZmlsZQ%3D%3D?line=97'>98</a>\u001b[0m policy_fn \u001b[39m=\u001b[39m agent\u001b[39m.\u001b[39mactor\n\u001b[0;32m---> <a href='vscode-notebook-cell:/home/mahdi/Desktop/supersac/on_policy_ddpg.ipynb#W3sZmlsZQ%3D%3D?line=98'>99</a>\u001b[0m eval_info \u001b[39m=\u001b[39m evaluate(policy_fn, eval_env, num_episodes\u001b[39m=\u001b[39;49meval_episodes)\n\u001b[1;32m    <a href='vscode-notebook-cell:/home/mahdi/Desktop/supersac/on_policy_ddpg.ipynb#W3sZmlsZQ%3D%3D?line=99'>100</a>\u001b[0m eval_metrics \u001b[39m=\u001b[39m {\u001b[39mf\u001b[39m\u001b[39m'\u001b[39m\u001b[39mevaluation/\u001b[39m\u001b[39m{\u001b[39;00mk\u001b[39m}\u001b[39;00m\u001b[39m'\u001b[39m: v \u001b[39mfor\u001b[39;00m k, v \u001b[39min\u001b[39;00m eval_info\u001b[39m.\u001b[39mitems()}\n\u001b[1;32m    <a href='vscode-notebook-cell:/home/mahdi/Desktop/supersac/on_policy_ddpg.ipynb#W3sZmlsZQ%3D%3D?line=100'>101</a>\u001b[0m \u001b[39mprint\u001b[39m(\u001b[39m'\u001b[39m\u001b[39mevaluating\u001b[39m\u001b[39m'\u001b[39m)\n",
      "File \u001b[0;32m~/Desktop/supersac/jaxrl_m/evaluation.py:69\u001b[0m, in \u001b[0;36mevaluate\u001b[0;34m(policy_fn, env, num_episodes)\u001b[0m\n\u001b[1;32m     67\u001b[0m truncated \u001b[39m=\u001b[39m \u001b[39mFalse\u001b[39;00m\n\u001b[1;32m     68\u001b[0m \u001b[39mwhile\u001b[39;00m \u001b[39mnot\u001b[39;00m (done \u001b[39mor\u001b[39;00m truncated):\n\u001b[0;32m---> 69\u001b[0m     action \u001b[39m=\u001b[39m policy_fn(observation)\n\u001b[1;32m     70\u001b[0m     \u001b[39m#observation, _, done, info = env.step(action)\u001b[39;00m\n\u001b[1;32m     71\u001b[0m     observation, reward, done, truncated, info \u001b[39m=\u001b[39m env\u001b[39m.\u001b[39mstep(action)\n",
      "File \u001b[0;32m~/Desktop/supersac/jaxrl_m/common.py:113\u001b[0m, in \u001b[0;36mTrainState.__call__\u001b[0;34m(self, params, extra_variables, method, *args, **kwargs)\u001b[0m\n\u001b[1;32m    110\u001b[0m \u001b[39mif\u001b[39;00m \u001b[39misinstance\u001b[39m(method, \u001b[39mstr\u001b[39m):\n\u001b[1;32m    111\u001b[0m     method \u001b[39m=\u001b[39m \u001b[39mgetattr\u001b[39m(\u001b[39mself\u001b[39m\u001b[39m.\u001b[39mmodel_def, method)\n\u001b[0;32m--> 113\u001b[0m \u001b[39mreturn\u001b[39;00m \u001b[39mself\u001b[39;49m\u001b[39m.\u001b[39;49mapply_fn(variables, \u001b[39m*\u001b[39;49margs, method\u001b[39m=\u001b[39;49mmethod, \u001b[39m*\u001b[39;49m\u001b[39m*\u001b[39;49mkwargs)\n",
      "    \u001b[0;31m[... skipping hidden 1 frame]\u001b[0m\n",
      "File \u001b[0;32m~/Desktop/supersac/.venv/lib/python3.10/site-packages/flax/linen/module.py:1922\u001b[0m, in \u001b[0;36mModule.apply\u001b[0;34m(self, variables, rngs, method, mutable, capture_intermediates, *args, **kwargs)\u001b[0m\n\u001b[1;32m   1920\u001b[0m   method \u001b[39m=\u001b[39m \u001b[39mself\u001b[39m\u001b[39m.\u001b[39m\u001b[39m__call__\u001b[39m\n\u001b[1;32m   1921\u001b[0m method \u001b[39m=\u001b[39m _get_unbound_fn(method)\n\u001b[0;32m-> 1922\u001b[0m \u001b[39mreturn\u001b[39;00m apply(\n\u001b[1;32m   1923\u001b[0m     method,\n\u001b[1;32m   1924\u001b[0m     \u001b[39mself\u001b[39;49m,\n\u001b[1;32m   1925\u001b[0m     mutable\u001b[39m=\u001b[39;49mmutable,\n\u001b[1;32m   1926\u001b[0m     capture_intermediates\u001b[39m=\u001b[39;49mcapture_intermediates,\n\u001b[1;32m   1927\u001b[0m )(variables, \u001b[39m*\u001b[39;49margs, \u001b[39m*\u001b[39;49m\u001b[39m*\u001b[39;49mkwargs, rngs\u001b[39m=\u001b[39;49mrngs)\n",
      "File \u001b[0;32m~/Desktop/supersac/.venv/lib/python3.10/site-packages/flax/core/scope.py:1084\u001b[0m, in \u001b[0;36mapply.<locals>.wrapper\u001b[0;34m(variables, rngs, *args, **kwargs)\u001b[0m\n\u001b[1;32m   1079\u001b[0m   \u001b[39mraise\u001b[39;00m errors\u001b[39m.\u001b[39mApplyScopeInvalidVariablesStructureError(variables)\n\u001b[1;32m   1081\u001b[0m \u001b[39mwith\u001b[39;00m bind(\n\u001b[1;32m   1082\u001b[0m     variables, rngs\u001b[39m=\u001b[39mrngs, mutable\u001b[39m=\u001b[39mmutable, flags\u001b[39m=\u001b[39mflags\n\u001b[1;32m   1083\u001b[0m )\u001b[39m.\u001b[39mtemporary() \u001b[39mas\u001b[39;00m root:\n\u001b[0;32m-> 1084\u001b[0m   y \u001b[39m=\u001b[39m fn(root, \u001b[39m*\u001b[39;49margs, \u001b[39m*\u001b[39;49m\u001b[39m*\u001b[39;49mkwargs)\n\u001b[1;32m   1085\u001b[0m \u001b[39mif\u001b[39;00m mutable \u001b[39mis\u001b[39;00m \u001b[39mnot\u001b[39;00m \u001b[39mFalse\u001b[39;00m:\n\u001b[1;32m   1086\u001b[0m   \u001b[39mreturn\u001b[39;00m y, root\u001b[39m.\u001b[39mmutable_variables()\n",
      "File \u001b[0;32m~/Desktop/supersac/.venv/lib/python3.10/site-packages/flax/linen/module.py:2563\u001b[0m, in \u001b[0;36mapply.<locals>.scope_fn\u001b[0;34m(scope, *args, **kwargs)\u001b[0m\n\u001b[1;32m   2561\u001b[0m _context\u001b[39m.\u001b[39mcapture_stack\u001b[39m.\u001b[39mappend(capture_intermediates)\n\u001b[1;32m   2562\u001b[0m \u001b[39mtry\u001b[39;00m:\n\u001b[0;32m-> 2563\u001b[0m   \u001b[39mreturn\u001b[39;00m fn(module\u001b[39m.\u001b[39;49mclone(parent\u001b[39m=\u001b[39;49mscope, _deep_clone\u001b[39m=\u001b[39;49m\u001b[39mTrue\u001b[39;49;00m), \u001b[39m*\u001b[39;49margs, \u001b[39m*\u001b[39;49m\u001b[39m*\u001b[39;49mkwargs)\n\u001b[1;32m   2564\u001b[0m \u001b[39mfinally\u001b[39;00m:\n\u001b[1;32m   2565\u001b[0m   _context\u001b[39m.\u001b[39mcapture_stack\u001b[39m.\u001b[39mpop()\n",
      "File \u001b[0;32m~/Desktop/supersac/.venv/lib/python3.10/site-packages/flax/linen/module.py:602\u001b[0m, in \u001b[0;36mwrap_method_once.<locals>.wrapped_module_method\u001b[0;34m(*args, **kwargs)\u001b[0m\n\u001b[1;32m    600\u001b[0m \u001b[39mif\u001b[39;00m args \u001b[39mand\u001b[39;00m \u001b[39misinstance\u001b[39m(args[\u001b[39m0\u001b[39m], Module):\n\u001b[1;32m    601\u001b[0m   \u001b[39mself\u001b[39m, args \u001b[39m=\u001b[39m args[\u001b[39m0\u001b[39m], args[\u001b[39m1\u001b[39m:]\n\u001b[0;32m--> 602\u001b[0m   \u001b[39mreturn\u001b[39;00m \u001b[39mself\u001b[39;49m\u001b[39m.\u001b[39;49m_call_wrapped_method(fun, args, kwargs)\n\u001b[1;32m    603\u001b[0m \u001b[39melse\u001b[39;00m:\n\u001b[1;32m    604\u001b[0m   \u001b[39mreturn\u001b[39;00m fun(\u001b[39m*\u001b[39margs, \u001b[39m*\u001b[39m\u001b[39m*\u001b[39mkwargs)\n",
      "File \u001b[0;32m~/Desktop/supersac/.venv/lib/python3.10/site-packages/flax/linen/module.py:1119\u001b[0m, in \u001b[0;36mModule._call_wrapped_method\u001b[0;34m(self, fun, args, kwargs)\u001b[0m\n\u001b[1;32m   1117\u001b[0m \u001b[39mif\u001b[39;00m _use_named_call:\n\u001b[1;32m   1118\u001b[0m   \u001b[39mwith\u001b[39;00m jax\u001b[39m.\u001b[39mnamed_scope(_derive_profiling_name(\u001b[39mself\u001b[39m, fun)):\n\u001b[0;32m-> 1119\u001b[0m     y \u001b[39m=\u001b[39m run_fun(\u001b[39mself\u001b[39;49m, \u001b[39m*\u001b[39;49margs, \u001b[39m*\u001b[39;49m\u001b[39m*\u001b[39;49mkwargs)\n\u001b[1;32m   1120\u001b[0m \u001b[39melse\u001b[39;00m:\n\u001b[1;32m   1121\u001b[0m   y \u001b[39m=\u001b[39m run_fun(\u001b[39mself\u001b[39m, \u001b[39m*\u001b[39margs, \u001b[39m*\u001b[39m\u001b[39m*\u001b[39mkwargs)\n",
      "File \u001b[0;32m~/Desktop/supersac/jaxrl_m/networks.py:202\u001b[0m, in \u001b[0;36mDeterministicPolicy.__call__\u001b[0;34m(self, observations, temperature)\u001b[0m\n\u001b[1;32m    192\u001b[0m \u001b[39m@nn\u001b[39m\u001b[39m.\u001b[39mcompact\n\u001b[1;32m    193\u001b[0m \u001b[39mdef\u001b[39;00m \u001b[39m__call__\u001b[39m(\n\u001b[1;32m    194\u001b[0m     \u001b[39mself\u001b[39m, observations: jnp\u001b[39m.\u001b[39mndarray, temperature: \u001b[39mfloat\u001b[39m \u001b[39m=\u001b[39m \u001b[39m1.0\u001b[39m\n\u001b[1;32m    195\u001b[0m ) \u001b[39m-\u001b[39m\u001b[39m>\u001b[39m distrax\u001b[39m.\u001b[39mDistribution:\n\u001b[1;32m    196\u001b[0m     outputs \u001b[39m=\u001b[39m MLP(\n\u001b[1;32m    197\u001b[0m         \u001b[39mself\u001b[39m\u001b[39m.\u001b[39mhidden_dims,\n\u001b[1;32m    198\u001b[0m         activations\u001b[39m=\u001b[39mnn\u001b[39m.\u001b[39mtanh,\u001b[39m### new\u001b[39;00m\n\u001b[1;32m    199\u001b[0m         activate_final\u001b[39m=\u001b[39m\u001b[39mTrue\u001b[39;00m,\n\u001b[1;32m    200\u001b[0m     )(observations)\n\u001b[0;32m--> 202\u001b[0m     outputs \u001b[39m=\u001b[39m nn\u001b[39m.\u001b[39;49mDense(\n\u001b[1;32m    203\u001b[0m         \u001b[39mself\u001b[39;49m\u001b[39m.\u001b[39;49maction_dim, kernel_init\u001b[39m=\u001b[39;49mdefault_init(\u001b[39mself\u001b[39;49m\u001b[39m.\u001b[39;49mfinal_fc_init_scale)\n\u001b[1;32m    204\u001b[0m     )(outputs)\n\u001b[1;32m    206\u001b[0m     outputs \u001b[39m=\u001b[39m nn\u001b[39m.\u001b[39mtanh(outputs)\n\u001b[1;32m    208\u001b[0m     \u001b[39mreturn\u001b[39;00m outputs\n",
      "File \u001b[0;32m~/Desktop/supersac/.venv/lib/python3.10/site-packages/flax/linen/module.py:602\u001b[0m, in \u001b[0;36mwrap_method_once.<locals>.wrapped_module_method\u001b[0;34m(*args, **kwargs)\u001b[0m\n\u001b[1;32m    600\u001b[0m \u001b[39mif\u001b[39;00m args \u001b[39mand\u001b[39;00m \u001b[39misinstance\u001b[39m(args[\u001b[39m0\u001b[39m], Module):\n\u001b[1;32m    601\u001b[0m   \u001b[39mself\u001b[39m, args \u001b[39m=\u001b[39m args[\u001b[39m0\u001b[39m], args[\u001b[39m1\u001b[39m:]\n\u001b[0;32m--> 602\u001b[0m   \u001b[39mreturn\u001b[39;00m \u001b[39mself\u001b[39;49m\u001b[39m.\u001b[39;49m_call_wrapped_method(fun, args, kwargs)\n\u001b[1;32m    603\u001b[0m \u001b[39melse\u001b[39;00m:\n\u001b[1;32m    604\u001b[0m   \u001b[39mreturn\u001b[39;00m fun(\u001b[39m*\u001b[39margs, \u001b[39m*\u001b[39m\u001b[39m*\u001b[39mkwargs)\n",
      "File \u001b[0;32m~/Desktop/supersac/.venv/lib/python3.10/site-packages/flax/linen/module.py:1119\u001b[0m, in \u001b[0;36mModule._call_wrapped_method\u001b[0;34m(self, fun, args, kwargs)\u001b[0m\n\u001b[1;32m   1117\u001b[0m \u001b[39mif\u001b[39;00m _use_named_call:\n\u001b[1;32m   1118\u001b[0m   \u001b[39mwith\u001b[39;00m jax\u001b[39m.\u001b[39mnamed_scope(_derive_profiling_name(\u001b[39mself\u001b[39m, fun)):\n\u001b[0;32m-> 1119\u001b[0m     y \u001b[39m=\u001b[39m run_fun(\u001b[39mself\u001b[39;49m, \u001b[39m*\u001b[39;49margs, \u001b[39m*\u001b[39;49m\u001b[39m*\u001b[39;49mkwargs)\n\u001b[1;32m   1120\u001b[0m \u001b[39melse\u001b[39;00m:\n\u001b[1;32m   1121\u001b[0m   y \u001b[39m=\u001b[39m run_fun(\u001b[39mself\u001b[39m, \u001b[39m*\u001b[39margs, \u001b[39m*\u001b[39m\u001b[39m*\u001b[39mkwargs)\n",
      "File \u001b[0;32m~/Desktop/supersac/.venv/lib/python3.10/site-packages/flax/linen/linear.py:234\u001b[0m, in \u001b[0;36mDense.__call__\u001b[0;34m(self, inputs)\u001b[0m\n\u001b[1;32m    224\u001b[0m \u001b[39m@compact\u001b[39m\n\u001b[1;32m    225\u001b[0m \u001b[39mdef\u001b[39;00m \u001b[39m__call__\u001b[39m(\u001b[39mself\u001b[39m, inputs: Array) \u001b[39m-\u001b[39m\u001b[39m>\u001b[39m Array:\n\u001b[1;32m    226\u001b[0m \u001b[39m  \u001b[39m\u001b[39m\"\"\"Applies a linear transformation to the inputs along the last dimension.\u001b[39;00m\n\u001b[1;32m    227\u001b[0m \n\u001b[1;32m    228\u001b[0m \u001b[39m  Args:\u001b[39;00m\n\u001b[0;32m   (...)\u001b[0m\n\u001b[1;32m    232\u001b[0m \u001b[39m    The transformed input.\u001b[39;00m\n\u001b[1;32m    233\u001b[0m \u001b[39m  \"\"\"\u001b[39;00m\n\u001b[0;32m--> 234\u001b[0m   kernel \u001b[39m=\u001b[39m \u001b[39mself\u001b[39;49m\u001b[39m.\u001b[39;49mparam(\n\u001b[1;32m    235\u001b[0m       \u001b[39m'\u001b[39;49m\u001b[39mkernel\u001b[39;49m\u001b[39m'\u001b[39;49m,\n\u001b[1;32m    236\u001b[0m       \u001b[39mself\u001b[39;49m\u001b[39m.\u001b[39;49mkernel_init,\n\u001b[1;32m    237\u001b[0m       (jnp\u001b[39m.\u001b[39;49mshape(inputs)[\u001b[39m-\u001b[39;49m\u001b[39m1\u001b[39;49m], \u001b[39mself\u001b[39;49m\u001b[39m.\u001b[39;49mfeatures),\n\u001b[1;32m    238\u001b[0m       \u001b[39mself\u001b[39;49m\u001b[39m.\u001b[39;49mparam_dtype,\n\u001b[1;32m    239\u001b[0m   )\n\u001b[1;32m    240\u001b[0m   \u001b[39mif\u001b[39;00m \u001b[39mself\u001b[39m\u001b[39m.\u001b[39muse_bias:\n\u001b[1;32m    241\u001b[0m     bias \u001b[39m=\u001b[39m \u001b[39mself\u001b[39m\u001b[39m.\u001b[39mparam(\n\u001b[1;32m    242\u001b[0m         \u001b[39m'\u001b[39m\u001b[39mbias\u001b[39m\u001b[39m'\u001b[39m, \u001b[39mself\u001b[39m\u001b[39m.\u001b[39mbias_init, (\u001b[39mself\u001b[39m\u001b[39m.\u001b[39mfeatures,), \u001b[39mself\u001b[39m\u001b[39m.\u001b[39mparam_dtype\n\u001b[1;32m    243\u001b[0m     )\n",
      "File \u001b[0;32m~/Desktop/supersac/.venv/lib/python3.10/site-packages/flax/linen/module.py:1657\u001b[0m, in \u001b[0;36mModule.param\u001b[0;34m(self, name, init_fn, unbox, *init_args)\u001b[0m\n\u001b[1;32m   1655\u001b[0m   \u001b[39mraise\u001b[39;00m errors\u001b[39m.\u001b[39mNameInUseError(\u001b[39m'\u001b[39m\u001b[39mparam\u001b[39m\u001b[39m'\u001b[39m, name, \u001b[39mself\u001b[39m\u001b[39m.\u001b[39m\u001b[39m__class__\u001b[39m\u001b[39m.\u001b[39m\u001b[39m__name__\u001b[39m)\n\u001b[1;32m   1656\u001b[0m \u001b[39massert\u001b[39;00m \u001b[39mself\u001b[39m\u001b[39m.\u001b[39mscope \u001b[39mis\u001b[39;00m \u001b[39mnot\u001b[39;00m \u001b[39mNone\u001b[39;00m\n\u001b[0;32m-> 1657\u001b[0m v \u001b[39m=\u001b[39m \u001b[39mself\u001b[39;49m\u001b[39m.\u001b[39;49mscope\u001b[39m.\u001b[39;49mparam(name, init_fn, \u001b[39m*\u001b[39;49minit_args, unbox\u001b[39m=\u001b[39;49munbox)\n\u001b[1;32m   1658\u001b[0m \u001b[39mself\u001b[39m\u001b[39m.\u001b[39m_state\u001b[39m.\u001b[39mchildren[name] \u001b[39m=\u001b[39m \u001b[39m'\u001b[39m\u001b[39mparams\u001b[39m\u001b[39m'\u001b[39m\n\u001b[1;32m   1659\u001b[0m \u001b[39mreturn\u001b[39;00m v\n",
      "File \u001b[0;32m~/Desktop/supersac/.venv/lib/python3.10/site-packages/flax/core/scope.py:967\u001b[0m, in \u001b[0;36mScope.param\u001b[0;34m(self, name, init_fn, unbox, *init_args)\u001b[0m\n\u001b[1;32m    961\u001b[0m value \u001b[39m=\u001b[39m \u001b[39mself\u001b[39m\u001b[39m.\u001b[39mget_variable(\u001b[39m'\u001b[39m\u001b[39mparams\u001b[39m\u001b[39m'\u001b[39m, name)\n\u001b[1;32m    962\u001b[0m \u001b[39m# Validate that the shape of the init_fn output is the same as the shape\u001b[39;00m\n\u001b[1;32m    963\u001b[0m \u001b[39m# of the existing parameter. This is to make sure that the hparams set up\u001b[39;00m\n\u001b[1;32m    964\u001b[0m \u001b[39m# in a Flax Module match the shapes coming in during apply, and if not,\u001b[39;00m\n\u001b[1;32m    965\u001b[0m \u001b[39m# catch it with an error message.\u001b[39;00m\n\u001b[1;32m    966\u001b[0m \u001b[39m# NOTE: We could consider moving this to `self.`\u001b[39;00m\n\u001b[0;32m--> 967\u001b[0m abs_value \u001b[39m=\u001b[39m jax\u001b[39m.\u001b[39;49meval_shape(\u001b[39mlambda\u001b[39;49;00m rng: init_fn(rng, \u001b[39m*\u001b[39;49minit_args), abs_rng)\n\u001b[1;32m    968\u001b[0m abs_value_flat \u001b[39m=\u001b[39m jax\u001b[39m.\u001b[39mtree_util\u001b[39m.\u001b[39mtree_leaves(abs_value)\n\u001b[1;32m    969\u001b[0m value_flat \u001b[39m=\u001b[39m jax\u001b[39m.\u001b[39mtree_util\u001b[39m.\u001b[39mtree_leaves(value)\n",
      "    \u001b[0;31m[... skipping hidden 1 frame]\u001b[0m\n",
      "File \u001b[0;32m~/Desktop/supersac/.venv/lib/python3.10/site-packages/jax/_src/api.py:2830\u001b[0m, in \u001b[0;36meval_shape\u001b[0;34m(fun, *args, **kwargs)\u001b[0m\n\u001b[1;32m   2828\u001b[0m wrapped_fun, out_tree \u001b[39m=\u001b[39m flatten_fun(lu\u001b[39m.\u001b[39mwrap_init(fun), in_tree)\n\u001b[1;32m   2829\u001b[0m debug_info \u001b[39m=\u001b[39m pe\u001b[39m.\u001b[39mdebug_info(fun, in_tree, out_tree, \u001b[39mTrue\u001b[39;00m, \u001b[39m\"\u001b[39m\u001b[39meval_shape\u001b[39m\u001b[39m\"\u001b[39m)\n\u001b[0;32m-> 2830\u001b[0m out \u001b[39m=\u001b[39m pe\u001b[39m.\u001b[39;49mabstract_eval_fun(wrapped_fun\u001b[39m.\u001b[39;49mcall_wrapped,\n\u001b[1;32m   2831\u001b[0m                            \u001b[39m*\u001b[39;49m\u001b[39mmap\u001b[39;49m(shaped_abstractify, args_flat),\n\u001b[1;32m   2832\u001b[0m                            debug_info\u001b[39m=\u001b[39;49mdebug_info)\n\u001b[1;32m   2833\u001b[0m out \u001b[39m=\u001b[39m [ShapeDtypeStruct(x\u001b[39m.\u001b[39mshape, x\u001b[39m.\u001b[39mdtype, x\u001b[39m.\u001b[39mnamed_shape) \u001b[39mfor\u001b[39;00m x \u001b[39min\u001b[39;00m out]\n\u001b[1;32m   2834\u001b[0m \u001b[39mreturn\u001b[39;00m tree_unflatten(out_tree(), out)\n",
      "File \u001b[0;32m~/Desktop/supersac/.venv/lib/python3.10/site-packages/jax/_src/interpreters/partial_eval.py:667\u001b[0m, in \u001b[0;36mabstract_eval_fun\u001b[0;34m(fun, debug_info, *avals, **params)\u001b[0m\n\u001b[1;32m    666\u001b[0m \u001b[39mdef\u001b[39;00m \u001b[39mabstract_eval_fun\u001b[39m(fun, \u001b[39m*\u001b[39mavals, debug_info\u001b[39m=\u001b[39m\u001b[39mNone\u001b[39;00m, \u001b[39m*\u001b[39m\u001b[39m*\u001b[39mparams):\n\u001b[0;32m--> 667\u001b[0m   _, avals_out, _ \u001b[39m=\u001b[39m trace_to_jaxpr_dynamic(\n\u001b[1;32m    668\u001b[0m       lu\u001b[39m.\u001b[39;49mwrap_init(fun, params), avals, debug_info)\n\u001b[1;32m    669\u001b[0m   \u001b[39massert\u001b[39;00m \u001b[39mall\u001b[39m(\u001b[39misinstance\u001b[39m(aval, AbstractValue) \u001b[39mfor\u001b[39;00m aval \u001b[39min\u001b[39;00m avals_out)\n\u001b[1;32m    670\u001b[0m   \u001b[39mreturn\u001b[39;00m avals_out\n",
      "File \u001b[0;32m~/Desktop/supersac/.venv/lib/python3.10/site-packages/jax/_src/profiler.py:340\u001b[0m, in \u001b[0;36mannotate_function.<locals>.wrapper\u001b[0;34m(*args, **kwargs)\u001b[0m\n\u001b[1;32m    337\u001b[0m \u001b[39m@wraps\u001b[39m(func)\n\u001b[1;32m    338\u001b[0m \u001b[39mdef\u001b[39;00m \u001b[39mwrapper\u001b[39m(\u001b[39m*\u001b[39margs, \u001b[39m*\u001b[39m\u001b[39m*\u001b[39mkwargs):\n\u001b[1;32m    339\u001b[0m   \u001b[39mwith\u001b[39;00m TraceAnnotation(name, \u001b[39m*\u001b[39m\u001b[39m*\u001b[39mdecorator_kwargs):\n\u001b[0;32m--> 340\u001b[0m     \u001b[39mreturn\u001b[39;00m func(\u001b[39m*\u001b[39;49margs, \u001b[39m*\u001b[39;49m\u001b[39m*\u001b[39;49mkwargs)\n\u001b[1;32m    341\u001b[0m   \u001b[39mreturn\u001b[39;00m wrapper\n",
      "File \u001b[0;32m~/Desktop/supersac/.venv/lib/python3.10/site-packages/jax/_src/interpreters/partial_eval.py:2278\u001b[0m, in \u001b[0;36mtrace_to_jaxpr_dynamic\u001b[0;34m(fun, in_avals, debug_info, keep_inputs)\u001b[0m\n\u001b[1;32m   2276\u001b[0m \u001b[39mwith\u001b[39;00m core\u001b[39m.\u001b[39mnew_main(DynamicJaxprTrace, dynamic\u001b[39m=\u001b[39m\u001b[39mTrue\u001b[39;00m) \u001b[39mas\u001b[39;00m main:  \u001b[39m# type: ignore\u001b[39;00m\n\u001b[1;32m   2277\u001b[0m   main\u001b[39m.\u001b[39mjaxpr_stack \u001b[39m=\u001b[39m ()  \u001b[39m# type: ignore\u001b[39;00m\n\u001b[0;32m-> 2278\u001b[0m   jaxpr, out_avals, consts \u001b[39m=\u001b[39m trace_to_subjaxpr_dynamic(\n\u001b[1;32m   2279\u001b[0m     fun, main, in_avals, keep_inputs\u001b[39m=\u001b[39;49mkeep_inputs, debug_info\u001b[39m=\u001b[39;49mdebug_info)\n\u001b[1;32m   2280\u001b[0m   \u001b[39mdel\u001b[39;00m main, fun\n\u001b[1;32m   2281\u001b[0m \u001b[39mreturn\u001b[39;00m jaxpr, out_avals, consts\n",
      "File \u001b[0;32m~/Desktop/supersac/.venv/lib/python3.10/site-packages/jax/_src/interpreters/partial_eval.py:2300\u001b[0m, in \u001b[0;36mtrace_to_subjaxpr_dynamic\u001b[0;34m(fun, main, in_avals, keep_inputs, debug_info)\u001b[0m\n\u001b[1;32m   2298\u001b[0m in_tracers \u001b[39m=\u001b[39m _input_type_to_tracers(trace\u001b[39m.\u001b[39mnew_arg, in_avals)\n\u001b[1;32m   2299\u001b[0m in_tracers_ \u001b[39m=\u001b[39m [t \u001b[39mfor\u001b[39;00m t, keep \u001b[39min\u001b[39;00m \u001b[39mzip\u001b[39m(in_tracers, keep_inputs) \u001b[39mif\u001b[39;00m keep]\n\u001b[0;32m-> 2300\u001b[0m ans \u001b[39m=\u001b[39m fun\u001b[39m.\u001b[39;49mcall_wrapped(\u001b[39m*\u001b[39;49min_tracers_)\n\u001b[1;32m   2301\u001b[0m out_tracers \u001b[39m=\u001b[39m \u001b[39mmap\u001b[39m(trace\u001b[39m.\u001b[39mfull_raise, ans)\n\u001b[1;32m   2302\u001b[0m jaxpr, consts \u001b[39m=\u001b[39m frame\u001b[39m.\u001b[39mto_jaxpr(out_tracers)\n",
      "File \u001b[0;32m~/Desktop/supersac/.venv/lib/python3.10/site-packages/jax/_src/linear_util.py:191\u001b[0m, in \u001b[0;36mWrappedFun.call_wrapped\u001b[0;34m(self, *args, **kwargs)\u001b[0m\n\u001b[1;32m    188\u001b[0m gen \u001b[39m=\u001b[39m gen_static_args \u001b[39m=\u001b[39m out_store \u001b[39m=\u001b[39m \u001b[39mNone\u001b[39;00m\n\u001b[1;32m    190\u001b[0m \u001b[39mtry\u001b[39;00m:\n\u001b[0;32m--> 191\u001b[0m   ans \u001b[39m=\u001b[39m \u001b[39mself\u001b[39;49m\u001b[39m.\u001b[39;49mf(\u001b[39m*\u001b[39;49margs, \u001b[39m*\u001b[39;49m\u001b[39m*\u001b[39;49m\u001b[39mdict\u001b[39;49m(\u001b[39mself\u001b[39;49m\u001b[39m.\u001b[39;49mparams, \u001b[39m*\u001b[39;49m\u001b[39m*\u001b[39;49mkwargs))\n\u001b[1;32m    192\u001b[0m \u001b[39mexcept\u001b[39;00m:\n\u001b[1;32m    193\u001b[0m   \u001b[39m# Some transformations yield from inside context managers, so we have to\u001b[39;00m\n\u001b[1;32m    194\u001b[0m   \u001b[39m# interrupt them before reraising the exception. Otherwise they will only\u001b[39;00m\n\u001b[1;32m    195\u001b[0m   \u001b[39m# get garbage-collected at some later time, running their cleanup tasks\u001b[39;00m\n\u001b[1;32m    196\u001b[0m   \u001b[39m# only after this exception is handled, which can corrupt the global\u001b[39;00m\n\u001b[1;32m    197\u001b[0m   \u001b[39m# state.\u001b[39;00m\n\u001b[1;32m    198\u001b[0m   \u001b[39mwhile\u001b[39;00m stack:\n",
      "File \u001b[0;32m~/Desktop/supersac/.venv/lib/python3.10/site-packages/jax/_src/linear_util.py:191\u001b[0m, in \u001b[0;36mWrappedFun.call_wrapped\u001b[0;34m(self, *args, **kwargs)\u001b[0m\n\u001b[1;32m    188\u001b[0m gen \u001b[39m=\u001b[39m gen_static_args \u001b[39m=\u001b[39m out_store \u001b[39m=\u001b[39m \u001b[39mNone\u001b[39;00m\n\u001b[1;32m    190\u001b[0m \u001b[39mtry\u001b[39;00m:\n\u001b[0;32m--> 191\u001b[0m   ans \u001b[39m=\u001b[39m \u001b[39mself\u001b[39;49m\u001b[39m.\u001b[39;49mf(\u001b[39m*\u001b[39;49margs, \u001b[39m*\u001b[39;49m\u001b[39m*\u001b[39;49m\u001b[39mdict\u001b[39;49m(\u001b[39mself\u001b[39;49m\u001b[39m.\u001b[39;49mparams, \u001b[39m*\u001b[39;49m\u001b[39m*\u001b[39;49mkwargs))\n\u001b[1;32m    192\u001b[0m \u001b[39mexcept\u001b[39;00m:\n\u001b[1;32m    193\u001b[0m   \u001b[39m# Some transformations yield from inside context managers, so we have to\u001b[39;00m\n\u001b[1;32m    194\u001b[0m   \u001b[39m# interrupt them before reraising the exception. Otherwise they will only\u001b[39;00m\n\u001b[1;32m    195\u001b[0m   \u001b[39m# get garbage-collected at some later time, running their cleanup tasks\u001b[39;00m\n\u001b[1;32m    196\u001b[0m   \u001b[39m# only after this exception is handled, which can corrupt the global\u001b[39;00m\n\u001b[1;32m    197\u001b[0m   \u001b[39m# state.\u001b[39;00m\n\u001b[1;32m    198\u001b[0m   \u001b[39mwhile\u001b[39;00m stack:\n",
      "File \u001b[0;32m~/Desktop/supersac/.venv/lib/python3.10/site-packages/flax/core/scope.py:967\u001b[0m, in \u001b[0;36mScope.param.<locals>.<lambda>\u001b[0;34m(rng)\u001b[0m\n\u001b[1;32m    961\u001b[0m value \u001b[39m=\u001b[39m \u001b[39mself\u001b[39m\u001b[39m.\u001b[39mget_variable(\u001b[39m'\u001b[39m\u001b[39mparams\u001b[39m\u001b[39m'\u001b[39m, name)\n\u001b[1;32m    962\u001b[0m \u001b[39m# Validate that the shape of the init_fn output is the same as the shape\u001b[39;00m\n\u001b[1;32m    963\u001b[0m \u001b[39m# of the existing parameter. This is to make sure that the hparams set up\u001b[39;00m\n\u001b[1;32m    964\u001b[0m \u001b[39m# in a Flax Module match the shapes coming in during apply, and if not,\u001b[39;00m\n\u001b[1;32m    965\u001b[0m \u001b[39m# catch it with an error message.\u001b[39;00m\n\u001b[1;32m    966\u001b[0m \u001b[39m# NOTE: We could consider moving this to `self.`\u001b[39;00m\n\u001b[0;32m--> 967\u001b[0m abs_value \u001b[39m=\u001b[39m jax\u001b[39m.\u001b[39meval_shape(\u001b[39mlambda\u001b[39;00m rng: init_fn(rng, \u001b[39m*\u001b[39;49minit_args), abs_rng)\n\u001b[1;32m    968\u001b[0m abs_value_flat \u001b[39m=\u001b[39m jax\u001b[39m.\u001b[39mtree_util\u001b[39m.\u001b[39mtree_leaves(abs_value)\n\u001b[1;32m    969\u001b[0m value_flat \u001b[39m=\u001b[39m jax\u001b[39m.\u001b[39mtree_util\u001b[39m.\u001b[39mtree_leaves(value)\n",
      "File \u001b[0;32m~/Desktop/supersac/.venv/lib/python3.10/site-packages/jax/_src/nn/initializers.py:339\u001b[0m, in \u001b[0;36mvariance_scaling.<locals>.init\u001b[0;34m(key, shape, dtype)\u001b[0m\n\u001b[1;32m    337\u001b[0m \u001b[39melif\u001b[39;00m distribution \u001b[39m==\u001b[39m \u001b[39m\"\u001b[39m\u001b[39muniform\u001b[39m\u001b[39m\"\u001b[39m:\n\u001b[1;32m    338\u001b[0m   \u001b[39mif\u001b[39;00m jnp\u001b[39m.\u001b[39missubdtype(dtype, jnp\u001b[39m.\u001b[39mfloating):\n\u001b[0;32m--> 339\u001b[0m     \u001b[39mreturn\u001b[39;00m random\u001b[39m.\u001b[39;49muniform(key, named_shape, dtype, \u001b[39m-\u001b[39;49m\u001b[39m1\u001b[39;49m) \u001b[39m*\u001b[39;49m jnp\u001b[39m.\u001b[39;49msqrt(\u001b[39m3\u001b[39;49m \u001b[39m*\u001b[39;49m variance)\n\u001b[1;32m    340\u001b[0m   \u001b[39melse\u001b[39;00m:\n\u001b[1;32m    341\u001b[0m     \u001b[39mreturn\u001b[39;00m _complex_uniform(key, named_shape, dtype) \u001b[39m*\u001b[39m jnp\u001b[39m.\u001b[39msqrt(variance)\n",
      "File \u001b[0;32m~/Desktop/supersac/.venv/lib/python3.10/site-packages/jax/_src/numpy/array_methods.py:728\u001b[0m, in \u001b[0;36m_forward_operator_to_aval.<locals>.op\u001b[0;34m(self, *args)\u001b[0m\n\u001b[1;32m    727\u001b[0m \u001b[39mdef\u001b[39;00m \u001b[39mop\u001b[39m(\u001b[39mself\u001b[39m, \u001b[39m*\u001b[39margs):\n\u001b[0;32m--> 728\u001b[0m   \u001b[39mreturn\u001b[39;00m \u001b[39mgetattr\u001b[39;49m(\u001b[39mself\u001b[39;49m\u001b[39m.\u001b[39;49maval, \u001b[39mf\u001b[39;49m\u001b[39m\"\u001b[39;49m\u001b[39m_\u001b[39;49m\u001b[39m{\u001b[39;49;00mname\u001b[39m}\u001b[39;49;00m\u001b[39m\"\u001b[39;49m)(\u001b[39mself\u001b[39;49m, \u001b[39m*\u001b[39;49margs)\n",
      "File \u001b[0;32m~/Desktop/supersac/.venv/lib/python3.10/site-packages/jax/_src/numpy/array_methods.py:256\u001b[0m, in \u001b[0;36m_defer_to_unrecognized_arg.<locals>.deferring_binary_op\u001b[0;34m(self, other)\u001b[0m\n\u001b[1;32m    254\u001b[0m args \u001b[39m=\u001b[39m (other, \u001b[39mself\u001b[39m) \u001b[39mif\u001b[39;00m swap \u001b[39melse\u001b[39;00m (\u001b[39mself\u001b[39m, other)\n\u001b[1;32m    255\u001b[0m \u001b[39mif\u001b[39;00m \u001b[39misinstance\u001b[39m(other, _accepted_binop_types):\n\u001b[0;32m--> 256\u001b[0m   \u001b[39mreturn\u001b[39;00m binary_op(\u001b[39m*\u001b[39;49margs)\n\u001b[1;32m    257\u001b[0m \u001b[39m# Note: don't use isinstance here, because we don't want to raise for\u001b[39;00m\n\u001b[1;32m    258\u001b[0m \u001b[39m# subclasses, e.g. NamedTuple objects that may override operators.\u001b[39;00m\n\u001b[1;32m    259\u001b[0m \u001b[39mif\u001b[39;00m \u001b[39mtype\u001b[39m(other) \u001b[39min\u001b[39;00m _rejected_binop_types:\n",
      "    \u001b[0;31m[... skipping hidden 1 frame]\u001b[0m\n",
      "File \u001b[0;32m~/Desktop/supersac/.venv/lib/python3.10/site-packages/jax/_src/pjit.py:256\u001b[0m, in \u001b[0;36m_cpp_pjit.<locals>.cache_miss\u001b[0;34m(*args, **kwargs)\u001b[0m\n\u001b[1;32m    254\u001b[0m \u001b[39m@api_boundary\u001b[39m\n\u001b[1;32m    255\u001b[0m \u001b[39mdef\u001b[39;00m \u001b[39mcache_miss\u001b[39m(\u001b[39m*\u001b[39margs, \u001b[39m*\u001b[39m\u001b[39m*\u001b[39mkwargs):\n\u001b[0;32m--> 256\u001b[0m   outs, out_flat, out_tree, args_flat, jaxpr \u001b[39m=\u001b[39m _python_pjit_helper(\n\u001b[1;32m    257\u001b[0m       fun, infer_params_fn, \u001b[39m*\u001b[39;49margs, \u001b[39m*\u001b[39;49m\u001b[39m*\u001b[39;49mkwargs)\n\u001b[1;32m    258\u001b[0m   executable \u001b[39m=\u001b[39m _read_most_recent_pjit_call_executable(jaxpr)\n\u001b[1;32m    259\u001b[0m   fastpath_data \u001b[39m=\u001b[39m _get_fastpath_data(executable, out_tree, args_flat, out_flat)\n",
      "File \u001b[0;32m~/Desktop/supersac/.venv/lib/python3.10/site-packages/jax/_src/pjit.py:162\u001b[0m, in \u001b[0;36m_python_pjit_helper\u001b[0;34m(fun, infer_params_fn, *args, **kwargs)\u001b[0m\n\u001b[1;32m    161\u001b[0m \u001b[39mdef\u001b[39;00m \u001b[39m_python_pjit_helper\u001b[39m(fun, infer_params_fn, \u001b[39m*\u001b[39margs, \u001b[39m*\u001b[39m\u001b[39m*\u001b[39mkwargs):\n\u001b[0;32m--> 162\u001b[0m   args_flat, _, params, in_tree, out_tree, _ \u001b[39m=\u001b[39m infer_params_fn(\n\u001b[1;32m    163\u001b[0m       \u001b[39m*\u001b[39;49margs, \u001b[39m*\u001b[39;49m\u001b[39m*\u001b[39;49mkwargs)\n\u001b[1;32m    164\u001b[0m   \u001b[39mfor\u001b[39;00m arg \u001b[39min\u001b[39;00m args_flat:\n\u001b[1;32m    165\u001b[0m     dispatch\u001b[39m.\u001b[39mcheck_arg(arg)\n",
      "File \u001b[0;32m~/Desktop/supersac/.venv/lib/python3.10/site-packages/jax/_src/api.py:314\u001b[0m, in \u001b[0;36mjit.<locals>.infer_params\u001b[0;34m(*args, **kwargs)\u001b[0m\n\u001b[1;32m    306\u001b[0m \u001b[39mdef\u001b[39;00m \u001b[39minfer_params\u001b[39m(\u001b[39m*\u001b[39margs, \u001b[39m*\u001b[39m\u001b[39m*\u001b[39mkwargs):\n\u001b[1;32m    307\u001b[0m   pjit_info_args \u001b[39m=\u001b[39m pjit\u001b[39m.\u001b[39mPjitInfo(\n\u001b[1;32m    308\u001b[0m       fun\u001b[39m=\u001b[39mfun, in_shardings\u001b[39m=\u001b[39min_shardings,\n\u001b[1;32m    309\u001b[0m       out_shardings\u001b[39m=\u001b[39mout_shardings, static_argnums\u001b[39m=\u001b[39mstatic_argnums,\n\u001b[0;32m   (...)\u001b[0m\n\u001b[1;32m    312\u001b[0m       keep_unused\u001b[39m=\u001b[39mkeep_unused, inline\u001b[39m=\u001b[39minline, resource_env\u001b[39m=\u001b[39m\u001b[39mNone\u001b[39;00m,\n\u001b[1;32m    313\u001b[0m       abstracted_axes\u001b[39m=\u001b[39mabstracted_axes)\n\u001b[0;32m--> 314\u001b[0m   \u001b[39mreturn\u001b[39;00m pjit\u001b[39m.\u001b[39;49mcommon_infer_params(pjit_info_args, \u001b[39m*\u001b[39;49margs, \u001b[39m*\u001b[39;49m\u001b[39m*\u001b[39;49mkwargs)\n",
      "File \u001b[0;32m~/Desktop/supersac/.venv/lib/python3.10/site-packages/jax/_src/pjit.py:507\u001b[0m, in \u001b[0;36mcommon_infer_params\u001b[0;34m(***failed resolving arguments***)\u001b[0m\n\u001b[1;32m    503\u001b[0m \u001b[39massert\u001b[39;00m (\u001b[39mlen\u001b[39m(canonicalized_in_shardings_flat) \u001b[39m==\u001b[39m \u001b[39mlen\u001b[39m(donated_invars) \u001b[39m==\u001b[39m\n\u001b[1;32m    504\u001b[0m         \u001b[39mlen\u001b[39m(consts) \u001b[39m+\u001b[39m \u001b[39mlen\u001b[39m(args_flat))\n\u001b[1;32m    506\u001b[0m \u001b[39m# in_shardings and out_shardings here are all GSPMDSharding.\u001b[39;00m\n\u001b[0;32m--> 507\u001b[0m params \u001b[39m=\u001b[39m \u001b[39mdict\u001b[39;49m(\n\u001b[1;32m    508\u001b[0m     jaxpr\u001b[39m=\u001b[39;49mjaxpr,\n\u001b[1;32m    509\u001b[0m     in_shardings\u001b[39m=\u001b[39;49mcanonicalized_in_shardings_flat,\n\u001b[1;32m    510\u001b[0m     out_shardings\u001b[39m=\u001b[39;49mcanonicalized_out_shardings_flat,\n\u001b[1;32m    511\u001b[0m     resource_env\u001b[39m=\u001b[39;49mresource_env,\n\u001b[1;32m    512\u001b[0m     donated_invars\u001b[39m=\u001b[39;49mdonated_invars,\n\u001b[1;32m    513\u001b[0m     name\u001b[39m=\u001b[39;49m\u001b[39mgetattr\u001b[39;49m(flat_fun, \u001b[39m'\u001b[39;49m\u001b[39m__name__\u001b[39;49m\u001b[39m'\u001b[39;49m, \u001b[39m'\u001b[39;49m\u001b[39m<unnamed function>\u001b[39;49m\u001b[39m'\u001b[39;49m),\n\u001b[1;32m    514\u001b[0m     keep_unused\u001b[39m=\u001b[39;49mkeep_unused,\n\u001b[1;32m    515\u001b[0m     inline\u001b[39m=\u001b[39;49minline,\n\u001b[1;32m    516\u001b[0m )\n\u001b[1;32m    517\u001b[0m \u001b[39mreturn\u001b[39;00m (consts \u001b[39m+\u001b[39m args_flat, in_type, params, in_tree, out_tree(),\n\u001b[1;32m    518\u001b[0m         donated_invars)\n",
      "\u001b[0;31mKeyboardInterrupt\u001b[0m: "
     ]
    }
   ],
   "source": [
    "import os\n",
    "from functools import partial\n",
    "import numpy as np\n",
    "import jax\n",
    "import tqdm\n",
    "import gymnasium as gym\n",
    "\n",
    "\n",
    "from jaxrl_m.wandb import setup_wandb, default_wandb_config, get_flag_dict\n",
    "import wandb\n",
    "from jaxrl_m.evaluation import supply_rng, evaluate, flatten, EpisodeMonitor\n",
    "from jaxrl_m.dataset import ReplayBuffer\n",
    "from collections import deque\n",
    "\n",
    "\n",
    "env_name='InvertedPendulum-v4'\n",
    "seed=np.random.choice(1000000)\n",
    "eval_episodes=10\n",
    "batch_size = 256\n",
    "max_steps = int(1e6)\n",
    "start_steps = 50000                   \n",
    "log_interval = 5000\n",
    "#eval_interval = 10000\n",
    "\n",
    "wandb_config = default_wandb_config()\n",
    "wandb_config.update({\n",
    "    'project': 'd4rl_test',\n",
    "    'group': 'sac_test',\n",
    "    'name': 'sac_{env_name}',\n",
    "})\n",
    "\n",
    "\n",
    "env = EpisodeMonitor(gym.make(env_name))\n",
    "eval_env = EpisodeMonitor(gym.make(env_name))\n",
    "setup_wandb({\"bonjour\":1})\n",
    "\n",
    "example_transition = dict(\n",
    "    observations=env.observation_space.sample(),\n",
    "    actions=env.action_space.sample(),\n",
    "    rewards=0.0,\n",
    "    masks=1.0,\n",
    "    next_observations=env.observation_space.sample(),\n",
    "    discounts=1.0,\n",
    ")\n",
    "\n",
    "replay_buffer = ReplayBuffer.create(example_transition, size=int(1e6))\n",
    "actor_buffer = ReplayBuffer.create(example_transition, size=int(5e3))\n",
    "\n",
    "agent = create_learner(seed,\n",
    "                example_transition['observations'][None],\n",
    "                example_transition['actions'][None],\n",
    "                max_steps=max_steps,\n",
    "                #**FLAGS.config\n",
    "                )\n",
    "\n",
    "exploration_metrics = dict()\n",
    "obs,info = env.reset()    \n",
    "exploration_rng = jax.random.PRNGKey(0)\n",
    "i = 0\n",
    "unlogged_steps = 0\n",
    "policy_rollouts = deque([], maxlen=10)\n",
    "with tqdm.tqdm(total=max_steps) as pbar:\n",
    "    \n",
    "    while i < max_steps:\n",
    "    \n",
    "        replay_buffer,actor_buffer,policy_rollout,policy_return,num_steps = rollout_policy(agent,env,exploration_rng,\n",
    "                   replay_buffer,actor_buffer,\n",
    "                   warmup=(i < start_steps))\n",
    "        policy_rollouts.append(policy_rollout)\n",
    "        unlogged_steps += num_steps\n",
    "        i+=num_steps\n",
    "        pbar.update(num_steps)\n",
    "        \n",
    "            \n",
    "        if replay_buffer.size > start_steps:\n",
    "        \n",
    "         \n",
    "            transitions = replay_buffer.get_all()\n",
    "            idxs = jax.random.choice(a=replay_buffer.size, shape=(5000,256), replace=True,key=jax.random.PRNGKey(0))\n",
    "            agent.reset_critic_optimizer()\n",
    "            agent, critic_update_info = agent.update_critic(transitions,idxs,5000)\n",
    "            R2 = evaluate_critic(agent,policy_rollouts[-1].policy_return,policy_rollouts)\n",
    "\n",
    "            \n",
    "            actor_batch = actor_buffer.get_all()      \n",
    "            agent, actor_update_info = agent.update_actor(actor_batch)    \n",
    "            \n",
    "            \n",
    "            update_info = {**critic_update_info, **actor_update_info, 'R2_validation': R2}\n",
    "            \n",
    "            \n",
    "            if unlogged_steps > log_interval:\n",
    "                exploration_metrics = {f'exploration/disc_return': policy_return}\n",
    "                wandb.log(exploration_metrics, step=int(i),commit=False)\n",
    "                train_metrics = {f'training/{k}': v for k, v in update_info.items()}\n",
    "                wandb.log(train_metrics, step=int(i),commit=False)\n",
    "                #wandb.log(exploration_metrics, step=i)\n",
    "                policy_fn = agent.actor\n",
    "                eval_info = evaluate(policy_fn, eval_env, num_episodes=eval_episodes)\n",
    "                eval_metrics = {f'evaluation/{k}': v for k, v in eval_info.items()}\n",
    "                print('evaluating')\n",
    "                wandb.log(eval_metrics, step=int(i),commit=True)\n",
    "                unlogged_steps = 0\n"
   ]
  }
 ],
 "metadata": {
  "kernelspec": {
   "display_name": ".venv",
   "language": "python",
   "name": "python3"
  },
  "language_info": {
   "codemirror_mode": {
    "name": "ipython",
    "version": 3
   },
   "file_extension": ".py",
   "mimetype": "text/x-python",
   "name": "python",
   "nbconvert_exporter": "python",
   "pygments_lexer": "ipython3",
   "version": "3.10.12"
  }
 },
 "nbformat": 4,
 "nbformat_minor": 2
}
